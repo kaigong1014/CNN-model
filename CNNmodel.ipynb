{
 "cells": [
  {
   "cell_type": "code",
   "execution_count": 19,
   "metadata": {
    "colab": {
     "base_uri": "https://localhost:8080/"
    },
    "executionInfo": {
     "elapsed": 24636,
     "status": "ok",
     "timestamp": 1682021609338,
     "user": {
      "displayName": "Yali Amit",
      "userId": "06843479468473845794"
     },
     "user_tz": 300
    },
    "id": "8OWJls-7YeMD",
    "outputId": "c1fce6f6-1400-4e5c-f0fa-8d6dc6a0610d"
   },
   "outputs": [],
   "source": [
    "import os\n",
    "# Check if you're on Google drive or on your own machine.\n",
    "# Get path to your data.\n",
    "\n",
    "import torch\n",
    "import numpy as np\n",
    "\n",
    "# Torch functions \n",
    "import torch.nn as nn\n",
    "import torch.nn.functional as F\n",
    "import torch.optim as optim\n",
    "\n",
    "# Utility to track progress of a routine.\n",
    "#from tqdm import tqdm\n",
    "from tqdm.notebook import trange, tqdm\n",
    "\n",
    "# Folder with course data\n",
    "predir = 'C:/Users/18383/Desktop/stat37601/'\n",
    "datadir='C:/Users/18383/Desktop/stat37601/'\n",
    "device = torch.device(\"cuda:0\" if torch.cuda.is_available() else \"cpu\")"
   ]
  },
  {
   "cell_type": "markdown",
   "metadata": {
    "id": "zPrnb-uuYeMN"
   },
   "source": [
    "### Get Mnist data and split into train validation and test"
   ]
  },
  {
   "cell_type": "code",
   "execution_count": 20,
   "metadata": {
    "id": "zp0xmv1cYeMO"
   },
   "outputs": [],
   "source": [
    "def get_mnist():\n",
    "\n",
    "    \n",
    "    data=np.float64(np.load(datadir+'MNIST_data.npy'))\n",
    "    labels=np.float32(np.load(datadir+'MNIST_labels.npy'))\n",
    "    print(data.shape)\n",
    "    permutation = np.random.permutation(data.shape[0])\n",
    "    data = data[permutation]\n",
    "    labels = labels[permutation]\n",
    "    data=np.float32(data)/255.\n",
    "    train_dat=data[0:55000].reshape((-1,1,28,28))\n",
    "    train_labels=np.int32(labels[0:55000])\n",
    "    val_dat=data[55000:60000].reshape((-1,1,28,28))\n",
    "    val_labels=np.int32(labels[55000:60000])\n",
    "    test_dat=data[60000:70000].reshape((-1,1,28,28))\n",
    "    test_labels=np.int32(labels[60000:70000])\n",
    "    \n",
    "    return (train_dat, train_labels), (val_dat, val_labels), (test_dat, test_labels)"
   ]
  },
  {
   "cell_type": "markdown",
   "metadata": {
    "id": "0AXzMt7OYeMR"
   },
   "source": [
    "### Get cifar10 data and split into training, validation and testing."
   ]
  },
  {
   "cell_type": "code",
   "execution_count": 21,
   "metadata": {
    "id": "lH2Uk3VyOb_e"
   },
   "outputs": [],
   "source": [
    "import h5py\n",
    "\n",
    "def get_cifar():\n",
    "    with h5py.File(datadir+'cifar10_train.hdf5', \"r\") as f:\n",
    "        tr=f[('data')][:].transpose(0,3,1,2)\n",
    "        tr_lb=f[('labels')][:]\n",
    "    train_data=np.float32(tr[0:45000])/255.\n",
    "    train_labels=tr_lb[0:45000]\n",
    "    val_data=np.float32(tr[45000:])/255.\n",
    "    val_labels=tr_lb[45000:]\n",
    "    \n",
    "    with h5py.File(datadir+'cifar10_test.hdf5', \"r\") as f:\n",
    "        test_data=f[('data')][:].transpose(0,3,1,2)\n",
    "        test_data=np.float32(test_data)/255.\n",
    "        test_labels=f[('labels')][:]\n",
    "    return (train_data, train_labels), (val_data, val_labels), (test_data, test_labels)\n"
   ]
  },
  {
   "cell_type": "markdown",
   "metadata": {
    "id": "2rSv3g2rYeMT"
   },
   "source": [
    "### Get the data "
   ]
  },
  {
   "cell_type": "code",
   "execution_count": 22,
   "metadata": {
    "id": "-3mBk2yzYeMU"
   },
   "outputs": [],
   "source": [
    "def get_data(data_set):\n",
    "    if (data_set==\"mnist\"):\n",
    "        return(get_mnist())\n",
    "    elif (data_set==\"cifar\"):\n",
    "        return(get_cifar())"
   ]
  },
  {
   "cell_type": "markdown",
   "metadata": {
    "id": "I_BdjFAyYeMU"
   },
   "source": [
    "### The network"
   ]
  },
  {
   "cell_type": "code",
   "execution_count": 23,
   "metadata": {
    "id": "o7muTmPNYeMV"
   },
   "outputs": [],
   "source": [
    "class MNIST_Net(nn.Module):\n",
    "    def __init__(self,pars):\n",
    "        super(MNIST_Net, self).__init__()\n",
    "        \n",
    "        ks=pars.kernel_size\n",
    "        ps=np.int32(pars.pool_size)\n",
    "        self.mid_layer=pars.mid_layer\n",
    "        # Two successive convolutional layers.\n",
    "        # Two pooling layers that come after convolutional layers.\n",
    "        # Two dropout layers.\n",
    "        self.conv1 = nn.Conv2d(1, 32, kernel_size=ks[0],padding=ks[0]//2)\n",
    "        self.pool1=nn.MaxPool2d(kernel_size=[ps],stride=2)\n",
    "        self.conv2 = nn.Conv2d(32, 64, kernel_size=ks[1],padding=ks[1]//2)\n",
    "        self.drop2 = nn.Dropout2d(pars.dropout)\n",
    "        self.pool2=nn.MaxPool2d(kernel_size=2,stride=2)\n",
    "        self.drop_final=nn.Dropout(pars.dropout)\n",
    "       \n",
    "               \n",
    "        \n",
    "        # Run the network one time on one dummy data point of the same \n",
    "        # dimension as the input images to get dimensions of fully connected \n",
    "        # layer that comes after second convolutional layers\n",
    "        self.first=True\n",
    "        if self.first:\n",
    "            self.forward(torch.zeros((1,)+pars.inp_dim))\n",
    "            \n",
    "        # Setup the optimizer type and send it the parameters of the model\n",
    "        if pars.minimizer == 'Adam':\n",
    "            self.optimizer = torch.optim.Adam(self.parameters(), lr = pars.step_size)\n",
    "        else:\n",
    "            self.optimizer = torch.optim.SGD(self.parameters(), lr = pars.step_size)\n",
    "         \n",
    "        self.criterion=nn.CrossEntropyLoss()\n",
    "        \n",
    "    def forward(self, x):\n",
    "        \n",
    "        # Apply relu to a pooled conv1 layer.\n",
    "        x = F.relu(self.pool1(self.conv1(x)))\n",
    "        if self.first:\n",
    "            print('conv1',x.shape)\n",
    "        # Apply relu to a pooled conv2 layer with a drop layer inbetween.\n",
    "        x = self.drop2(F.relu(self.pool2(self.conv2(x))))\n",
    "        if self.first:\n",
    "            print('conv2',x.shape)\n",
    "        \n",
    "        if self.first:\n",
    "            self.first=False\n",
    "            self.inp=x.shape[1]*x.shape[2]*x.shape[3]\n",
    "            # Compute dimension of output of x and setup a fully connected layer with that input dim \n",
    "            # pars.mid_layer output dim. Then setup final 10 node output layer.\n",
    "            print('input dimension to fc1',self.inp)\n",
    "            if self.mid_layer is not None:\n",
    "                self.fc1 = nn.Linear(self.inp, self.mid_layer)\n",
    "                self.fc_final = nn.Linear(self.mid_layer, 10)\n",
    "            else:\n",
    "                self.fc1=nn.Identity()\n",
    "                self.fc_final = nn.Linear(self.inp, 10)\n",
    "            # Print out all network parameter shapes and compute total:\n",
    "            tot_pars=0\n",
    "            for k,p in self.named_parameters():\n",
    "                tot_pars+=p.numel()\n",
    "                print(k,p.shape)\n",
    "            print('tot_pars',tot_pars)\n",
    "        x = x.reshape(-1, self.inp)\n",
    "        x = F.relu(self.fc1(x))\n",
    "        x = self.drop_final(x)\n",
    "        x = self.fc_final(x)\n",
    "        return x\n",
    "    \n",
    "    # Run the network on the data, compute the loss, compute the predictions and compute classification rate/\n",
    "    def get_acc_and_loss(self, data, targ):\n",
    "        output = self.forward(data)\n",
    "        loss = self.criterion(output, targ)\n",
    "        pred = torch.max(output,1)[1]\n",
    "        correct = torch.eq(pred,targ).sum()\n",
    "        \n",
    "        return loss,correct\n",
    "    \n",
    "    # Compute classification and loss and then do a gradient step on the loss.\n",
    "    def run_grad(self,data,targ):\n",
    "    \n",
    "        loss, correct=self.get_acc_and_loss(data,targ)\n",
    "        self.optimizer.zero_grad()\n",
    "        loss.backward()\n",
    "        self.optimizer.step()\n",
    "        \n",
    "        return loss, correct\n",
    "    \n",
    "        "
   ]
  },
  {
   "cell_type": "markdown",
   "metadata": {
    "id": "U6uUytoPYeMY"
   },
   "source": [
    "# Run one epoch"
   ]
  },
  {
   "cell_type": "code",
   "execution_count": 24,
   "metadata": {
    "id": "Zsjb4DKDYeMY"
   },
   "outputs": [],
   "source": [
    "def run_epoch(net,epoch,train,pars,num=None,ttype=\"train\"):\n",
    "    \n",
    "    \n",
    "    if ttype=='train':\n",
    "        t1=time.time()\n",
    "        n=train[0].shape[0]\n",
    "        if (num is not None):\n",
    "            n=np.minimum(n,num)\n",
    "        ii=np.array(np.arange(0,n,1))\n",
    "        np.random.shuffle(ii)\n",
    "        tr=train[0][ii]\n",
    "        y=train[1][ii]\n",
    "        train_loss=0; train_correct=0\n",
    "\n",
    "        for j in trange(0,n,pars.batch_size):\n",
    "                \n",
    "                # Transfer the batch from cpu to gpu (or do nothing if you're on a cpu)\n",
    "                data=torch.torch.from_numpy(tr[j:j+pars.batch_size]).to(pars.device)\n",
    "                targ=torch.torch.from_numpy(y[j:j+pars.batch_size]).type(torch.long).to(pars.device)\n",
    "                \n",
    "                # Implement SGD step on batch\n",
    "                loss, correct = net.run_grad(data,targ) \n",
    "                \n",
    "                train_loss += loss.item()\n",
    "                train_correct += correct.item()\n",
    "                \n",
    "\n",
    "        train_loss /= len(y)\n",
    "        print('\\nTraining set epoch {}: Avg. loss: {:.4f}, Accuracy: {}/{} ({:.2f}%)\\n'.format(epoch,\n",
    "            train_loss, train_correct, len(y),\n",
    "            100. * train_correct / len(y)))\n",
    "        \n",
    "    return train_loss, 100. * train_correct / len(y)\n",
    "\n",
    "    \n"
   ]
  },
  {
   "cell_type": "code",
   "execution_count": 25,
   "metadata": {
    "id": "MlTAgnbYYeMZ"
   },
   "outputs": [],
   "source": [
    "def net_test(net,val,pars,ttype='val'):\n",
    "    net.eval()\n",
    "    with torch.no_grad():\n",
    "                test_loss = 0\n",
    "                test_correct = 0\n",
    "                vald=val[0]\n",
    "                yval=val[1]\n",
    "                for j in np.arange(0,len(yval),pars.batch_size):\n",
    "                    data=torch.from_numpy(vald[j:j+pars.batch_size]).to(device)\n",
    "                    targ = torch.from_numpy(yval[j:j+pars.batch_size]).type(torch.long).to(pars.device)\n",
    "                    loss,correct=net.get_acc_and_loss(data,targ)\n",
    "\n",
    "                    test_loss += loss.item()\n",
    "                    test_correct += correct.item()\n",
    "\n",
    "                test_loss /= len(yval)\n",
    "                SSS='Validation'\n",
    "                if (ttype=='test'):\n",
    "                    SSS='Test'\n",
    "                print('\\n{} set: Avg. loss: {:.4f}, Accuracy: {}/{} ({:.2f}%)\\n'.format(SSS,\n",
    "                    test_loss, test_correct, len(yval),\n",
    "                    100. * test_correct / len(yval)))\n",
    "    return test_loss, 100. * test_correct / len(yval)\n",
    "\n"
   ]
  },
  {
   "cell_type": "markdown",
   "metadata": {
    "id": "UNgGU6TcYeMZ"
   },
   "source": [
    "# Run the training. Save the model and test at the end"
   ]
  },
  {
   "cell_type": "code",
   "execution_count": 26,
   "metadata": {
    "id": "b2gIggHCYeMZ"
   },
   "outputs": [],
   "source": [
    "import time\n",
    "# An object containing the relevant parameters for running the experiment.\n",
    "class par(object):\n",
    "    def __init__(self):\n",
    "        self.batch_size=1000\n",
    "        self.step_size=.001\n",
    "        self.num_epochs=10\n",
    "        self.numtrain=55000\n",
    "        self.minimizer=\"Adam\"\n",
    "        self.data_set=\"mnist\"\n",
    "        self.model_name=\"model\"\n",
    "        self.dropout=0.\n",
    "        self.dim=32\n",
    "        self.pool_size=2\n",
    "        self.kernel_size=5\n",
    "        self.mid_layer=256\n",
    "        self.use_gpu=False\n",
    "\n",
    "pars=par()"
   ]
  },
  {
   "cell_type": "code",
   "execution_count": 27,
   "metadata": {
    "id": "dz_6w7-RYeMa"
   },
   "outputs": [
    {
     "data": {
      "text/plain": [
       "{'batch_size': 1000,\n",
       " 'step_size': 0.001,\n",
       " 'num_epochs': 10,\n",
       " 'numtrain': 55000,\n",
       " 'minimizer': 'Adam',\n",
       " 'data_set': 'mnist',\n",
       " 'model_name': 'model',\n",
       " 'dropout': 0.0,\n",
       " 'dim': 32,\n",
       " 'pool_size': 2,\n",
       " 'kernel_size': 5,\n",
       " 'mid_layer': 256,\n",
       " 'use_gpu': False}"
      ]
     },
     "execution_count": 27,
     "metadata": {},
     "output_type": "execute_result"
    }
   ],
   "source": [
    "pars.__dict__"
   ]
  },
  {
   "cell_type": "code",
   "execution_count": 28,
   "metadata": {
    "colab": {
     "base_uri": "https://localhost:8080/",
     "height": 595,
     "referenced_widgets": [
      "77159518c54e4e7db062749431535a14",
      "7bd26a14d091414ea23c2c5dddb27aa9",
      "9039d4f80d4245a2ab6351357d240c30",
      "ef19844ef2fa4a87a19461b4ca353c4f",
      "9e238fd0858c4f7093c1881a214e611a",
      "733d642e61a347228507d6407da371c2",
      "dbaee315d7544af1a0901c7966060a11",
      "a32b06f7b5bb47b4a6c612d691037f86",
      "eac19658fca142cd8479180a61445f3f",
      "69795aa0ed834270906fab7abd579fd6",
      "8987947922274a379f0ba34e5b325f79",
      "cd24a2e5cfbf4c3a88ba85745b4fed59",
      "55da5797d0b44ed983bd418722e3a919",
      "2ecf0421133a4aaa9eb394f795cb461e",
      "0734f24097b3425284b8678b019fa1a9",
      "93990de294ed4f35905b13cad0b8a5fb",
      "7f92950bc7644b6cad8652533727b9f0",
      "33da9a51e1c546efbe772eb78b3026e1",
      "2c60196c25024f949eb162b4560328c8",
      "68242eec45f44bd9990b909ca5d28925",
      "45ff11a2888d4199b40ab8c7d4d30925",
      "64824c908396453c9dbd714e803e953b"
     ]
    },
    "executionInfo": {
     "elapsed": 3911,
     "status": "ok",
     "timestamp": 1682004392850,
     "user": {
      "displayName": "Yali Amit",
      "userId": "06843479468473845794"
     },
     "user_tz": 300
    },
    "id": "jJj3uiFdYeMb",
    "outputId": "da30514b-e54d-42f4-efcd-0784000f4eb0"
   },
   "outputs": [
    {
     "name": "stdout",
     "output_type": "stream",
     "text": [
      "(70000, 784)\n",
      "conv1 torch.Size([1, 32, 14, 14])\n",
      "conv2 torch.Size([1, 64, 7, 7])\n",
      "input dimension to fc1 3136\n",
      "conv1.weight torch.Size([32, 1, 5, 5])\n",
      "conv1.bias torch.Size([32])\n",
      "conv2.weight torch.Size([64, 32, 5, 5])\n",
      "conv2.bias torch.Size([64])\n",
      "fc1.weight torch.Size([256, 3136])\n",
      "fc1.bias torch.Size([256])\n",
      "fc_final.weight torch.Size([10, 256])\n",
      "fc_final.bias torch.Size([10])\n",
      "tot_pars 857738\n"
     ]
    },
    {
     "data": {
      "application/vnd.jupyter.widget-view+json": {
       "model_id": "6f92178fdbea49778fef13b5291974e0",
       "version_major": 2,
       "version_minor": 0
      },
      "text/plain": [
       "  0%|          | 0/55 [00:00<?, ?it/s]"
      ]
     },
     "metadata": {},
     "output_type": "display_data"
    },
    {
     "name": "stdout",
     "output_type": "stream",
     "text": [
      "\n",
      "Training set epoch 0: Avg. loss: 0.0006, Accuracy: 45618/55000 (82.94%)\n",
      "\n",
      "\n",
      "Validation set: Avg. loss: 0.0002, Accuracy: 4707/5000 (94.14%)\n",
      "\n"
     ]
    },
    {
     "data": {
      "application/vnd.jupyter.widget-view+json": {
       "model_id": "c23530f8848f4674ba57689603c6c5a5",
       "version_major": 2,
       "version_minor": 0
      },
      "text/plain": [
       "  0%|          | 0/55 [00:00<?, ?it/s]"
      ]
     },
     "metadata": {},
     "output_type": "display_data"
    },
    {
     "name": "stdout",
     "output_type": "stream",
     "text": [
      "\n",
      "Training set epoch 1: Avg. loss: 0.0001, Accuracy: 52759/55000 (95.93%)\n",
      "\n",
      "\n",
      "Validation set: Avg. loss: 0.0001, Accuracy: 4865/5000 (97.30%)\n",
      "\n"
     ]
    },
    {
     "data": {
      "application/vnd.jupyter.widget-view+json": {
       "model_id": "b01541fd47fa4fba912280e0870d2b2f",
       "version_major": 2,
       "version_minor": 0
      },
      "text/plain": [
       "  0%|          | 0/55 [00:00<?, ?it/s]"
      ]
     },
     "metadata": {},
     "output_type": "display_data"
    },
    {
     "name": "stdout",
     "output_type": "stream",
     "text": [
      "\n",
      "Training set epoch 2: Avg. loss: 0.0001, Accuracy: 53666/55000 (97.57%)\n",
      "\n",
      "\n",
      "Validation set: Avg. loss: 0.0001, Accuracy: 4895/5000 (97.90%)\n",
      "\n"
     ]
    },
    {
     "data": {
      "application/vnd.jupyter.widget-view+json": {
       "model_id": "0e8a0824cb6c4db2ad1be4ea06f2f159",
       "version_major": 2,
       "version_minor": 0
      },
      "text/plain": [
       "  0%|          | 0/55 [00:00<?, ?it/s]"
      ]
     },
     "metadata": {},
     "output_type": "display_data"
    },
    {
     "name": "stdout",
     "output_type": "stream",
     "text": [
      "\n",
      "Training set epoch 3: Avg. loss: 0.0001, Accuracy: 53952/55000 (98.09%)\n",
      "\n",
      "\n",
      "Validation set: Avg. loss: 0.0001, Accuracy: 4901/5000 (98.02%)\n",
      "\n"
     ]
    },
    {
     "data": {
      "application/vnd.jupyter.widget-view+json": {
       "model_id": "2cad31ff2fff464db5d660f4a08d28dc",
       "version_major": 2,
       "version_minor": 0
      },
      "text/plain": [
       "  0%|          | 0/55 [00:00<?, ?it/s]"
      ]
     },
     "metadata": {},
     "output_type": "display_data"
    },
    {
     "name": "stdout",
     "output_type": "stream",
     "text": [
      "\n",
      "Training set epoch 4: Avg. loss: 0.0001, Accuracy: 54135/55000 (98.43%)\n",
      "\n",
      "\n",
      "Validation set: Avg. loss: 0.0001, Accuracy: 4910/5000 (98.20%)\n",
      "\n"
     ]
    },
    {
     "data": {
      "application/vnd.jupyter.widget-view+json": {
       "model_id": "c6da1653c4a54ee097695348335efdd9",
       "version_major": 2,
       "version_minor": 0
      },
      "text/plain": [
       "  0%|          | 0/55 [00:00<?, ?it/s]"
      ]
     },
     "metadata": {},
     "output_type": "display_data"
    },
    {
     "name": "stdout",
     "output_type": "stream",
     "text": [
      "\n",
      "Training set epoch 5: Avg. loss: 0.0000, Accuracy: 54272/55000 (98.68%)\n",
      "\n",
      "\n",
      "Validation set: Avg. loss: 0.0001, Accuracy: 4917/5000 (98.34%)\n",
      "\n"
     ]
    },
    {
     "data": {
      "application/vnd.jupyter.widget-view+json": {
       "model_id": "6381daaf4cc0422ab88e75613300c1c2",
       "version_major": 2,
       "version_minor": 0
      },
      "text/plain": [
       "  0%|          | 0/55 [00:00<?, ?it/s]"
      ]
     },
     "metadata": {},
     "output_type": "display_data"
    },
    {
     "name": "stdout",
     "output_type": "stream",
     "text": [
      "\n",
      "Training set epoch 6: Avg. loss: 0.0000, Accuracy: 54370/55000 (98.85%)\n",
      "\n",
      "\n",
      "Validation set: Avg. loss: 0.0000, Accuracy: 4930/5000 (98.60%)\n",
      "\n"
     ]
    },
    {
     "data": {
      "application/vnd.jupyter.widget-view+json": {
       "model_id": "3fc0c1462ac040a8b0ea011478852a6b",
       "version_major": 2,
       "version_minor": 0
      },
      "text/plain": [
       "  0%|          | 0/55 [00:00<?, ?it/s]"
      ]
     },
     "metadata": {},
     "output_type": "display_data"
    },
    {
     "name": "stdout",
     "output_type": "stream",
     "text": [
      "\n",
      "Training set epoch 7: Avg. loss: 0.0000, Accuracy: 54459/55000 (99.02%)\n",
      "\n",
      "\n",
      "Validation set: Avg. loss: 0.0000, Accuracy: 4937/5000 (98.74%)\n",
      "\n"
     ]
    },
    {
     "data": {
      "application/vnd.jupyter.widget-view+json": {
       "model_id": "a231499116494172af979ae96e144a2e",
       "version_major": 2,
       "version_minor": 0
      },
      "text/plain": [
       "  0%|          | 0/55 [00:00<?, ?it/s]"
      ]
     },
     "metadata": {},
     "output_type": "display_data"
    },
    {
     "name": "stdout",
     "output_type": "stream",
     "text": [
      "\n",
      "Training set epoch 8: Avg. loss: 0.0000, Accuracy: 54546/55000 (99.17%)\n",
      "\n",
      "\n",
      "Validation set: Avg. loss: 0.0000, Accuracy: 4943/5000 (98.86%)\n",
      "\n"
     ]
    },
    {
     "data": {
      "application/vnd.jupyter.widget-view+json": {
       "model_id": "8e34443602ac40459fae3725aa5a361f",
       "version_major": 2,
       "version_minor": 0
      },
      "text/plain": [
       "  0%|          | 0/55 [00:00<?, ?it/s]"
      ]
     },
     "metadata": {},
     "output_type": "display_data"
    },
    {
     "name": "stdout",
     "output_type": "stream",
     "text": [
      "\n",
      "Training set epoch 9: Avg. loss: 0.0000, Accuracy: 54630/55000 (99.33%)\n",
      "\n",
      "\n",
      "Validation set: Avg. loss: 0.0000, Accuracy: 4938/5000 (98.76%)\n",
      "\n",
      "\n",
      "Test set: Avg. loss: 0.0000, Accuracy: 9899/10000 (98.99%)\n",
      "\n"
     ]
    }
   ],
   "source": [
    "# use GPU when possible\n",
    "pars.device = device\n",
    "pars.kernel_size=[5,5]\n",
    "train,val,test=get_data(data_set=pars.data_set)\n",
    "pars.inp_dim=train[0][0].shape\n",
    "# Initialize the network\n",
    "net = MNIST_Net(pars).to(pars.device)\n",
    "# Post it to the gpu if its there.\n",
    "net.to(pars.device)\n",
    "\n",
    "\n",
    "train=(train[0][0:pars.numtrain],train[1][0:pars.numtrain])\n",
    "\n",
    "train_losses, train_accuracies, val_losses, val_accuracies = [], [], [], []\n",
    "for i in range(pars.num_epochs):\n",
    "    # Run one epoch of training\n",
    "    train_loss, train_accuracy = run_epoch(net,i,train, pars, num=pars.numtrain, ttype=\"train\")\n",
    "    # Test on validation set.\n",
    "    val_loss, val_accuracy = net_test(net,val,pars)\n",
    "    train_losses.append(train_loss)\n",
    "    train_accuracies.append(train_accuracy)\n",
    "    val_losses.append(val_loss)\n",
    "    val_accuracies.append(val_accuracy)\n",
    "\n",
    "\n",
    "\n",
    "net_test(net,test,pars,ttype=\"test\")\n",
    "\n",
    "# Save the model to a file\n",
    "if not os.path.isdir(os.path.join(predir,'tmp')):\n",
    "    os.mkdir(os.path.join(predir,'tmp'))\n",
    "torch.save(net.state_dict(), os.path.join(predir,'tmp',pars.model_name))"
   ]
  },
  {
   "cell_type": "markdown",
   "metadata": {
    "id": "H8M6BP81YeMc"
   },
   "source": [
    "# Reload the model that was saved and continue training"
   ]
  },
  {
   "cell_type": "code",
   "execution_count": 29,
   "metadata": {
    "id": "DmVSAEwpYeMc"
   },
   "outputs": [
    {
     "name": "stdout",
     "output_type": "stream",
     "text": [
      "(70000, 784)\n",
      "conv1 torch.Size([1, 32, 14, 14])\n",
      "conv2 torch.Size([1, 64, 7, 7])\n",
      "input dimension to fc1 3136\n",
      "conv1.weight torch.Size([32, 1, 5, 5])\n",
      "conv1.bias torch.Size([32])\n",
      "conv2.weight torch.Size([64, 32, 5, 5])\n",
      "conv2.bias torch.Size([64])\n",
      "fc1.weight torch.Size([256, 3136])\n",
      "fc1.bias torch.Size([256])\n",
      "fc_final.weight torch.Size([10, 256])\n",
      "fc_final.bias torch.Size([10])\n",
      "tot_pars 857738\n",
      "{'batch_size': 1000, 'step_size': 0.001, 'num_epochs': 10, 'numtrain': 55000, 'minimizer': 'Adam', 'data_set': 'mnist', 'model_name': 'model', 'dropout': 0.0, 'dim': 32, 'pool_size': 2, 'kernel_size': [5, 5], 'mid_layer': 256, 'use_gpu': False, 'device': device(type='cuda', index=0), 'inp_dim': (1, 28, 28), 'new_model_name': 'model_continue'}\n"
     ]
    },
    {
     "data": {
      "application/vnd.jupyter.widget-view+json": {
       "model_id": "c63092eaa432412285b95e2d158058a5",
       "version_major": 2,
       "version_minor": 0
      },
      "text/plain": [
       "  0%|          | 0/55 [00:00<?, ?it/s]"
      ]
     },
     "metadata": {},
     "output_type": "display_data"
    },
    {
     "name": "stdout",
     "output_type": "stream",
     "text": [
      "\n",
      "Training set epoch 0: Avg. loss: 0.0000, Accuracy: 54402/55000 (98.91%)\n",
      "\n",
      "\n",
      "Validation set: Avg. loss: 0.0000, Accuracy: 4950/5000 (99.00%)\n",
      "\n"
     ]
    },
    {
     "data": {
      "application/vnd.jupyter.widget-view+json": {
       "model_id": "57ee7b22dd774f64990bb4b30363b5b2",
       "version_major": 2,
       "version_minor": 0
      },
      "text/plain": [
       "  0%|          | 0/55 [00:00<?, ?it/s]"
      ]
     },
     "metadata": {},
     "output_type": "display_data"
    },
    {
     "name": "stdout",
     "output_type": "stream",
     "text": [
      "\n",
      "Training set epoch 1: Avg. loss: 0.0000, Accuracy: 54639/55000 (99.34%)\n",
      "\n",
      "\n",
      "Validation set: Avg. loss: 0.0000, Accuracy: 4945/5000 (98.90%)\n",
      "\n"
     ]
    },
    {
     "data": {
      "application/vnd.jupyter.widget-view+json": {
       "model_id": "3d1c42e04488406d8c81ccc68ed20727",
       "version_major": 2,
       "version_minor": 0
      },
      "text/plain": [
       "  0%|          | 0/55 [00:00<?, ?it/s]"
      ]
     },
     "metadata": {},
     "output_type": "display_data"
    },
    {
     "name": "stdout",
     "output_type": "stream",
     "text": [
      "\n",
      "Training set epoch 2: Avg. loss: 0.0000, Accuracy: 54681/55000 (99.42%)\n",
      "\n",
      "\n",
      "Validation set: Avg. loss: 0.0000, Accuracy: 4959/5000 (99.18%)\n",
      "\n"
     ]
    },
    {
     "data": {
      "application/vnd.jupyter.widget-view+json": {
       "model_id": "3d50aacfabf04b54bbf518a94e45f3a2",
       "version_major": 2,
       "version_minor": 0
      },
      "text/plain": [
       "  0%|          | 0/55 [00:00<?, ?it/s]"
      ]
     },
     "metadata": {},
     "output_type": "display_data"
    },
    {
     "name": "stdout",
     "output_type": "stream",
     "text": [
      "\n",
      "Training set epoch 3: Avg. loss: 0.0000, Accuracy: 54781/55000 (99.60%)\n",
      "\n",
      "\n",
      "Validation set: Avg. loss: 0.0000, Accuracy: 4963/5000 (99.26%)\n",
      "\n"
     ]
    },
    {
     "data": {
      "application/vnd.jupyter.widget-view+json": {
       "model_id": "491d3319f65b4ab3a75acdcbf75e252a",
       "version_major": 2,
       "version_minor": 0
      },
      "text/plain": [
       "  0%|          | 0/55 [00:00<?, ?it/s]"
      ]
     },
     "metadata": {},
     "output_type": "display_data"
    },
    {
     "name": "stdout",
     "output_type": "stream",
     "text": [
      "\n",
      "Training set epoch 4: Avg. loss: 0.0000, Accuracy: 54793/55000 (99.62%)\n",
      "\n",
      "\n",
      "Validation set: Avg. loss: 0.0000, Accuracy: 4962/5000 (99.24%)\n",
      "\n"
     ]
    },
    {
     "data": {
      "application/vnd.jupyter.widget-view+json": {
       "model_id": "f318ee9e7aa545708b62c1c8bf7c510f",
       "version_major": 2,
       "version_minor": 0
      },
      "text/plain": [
       "  0%|          | 0/55 [00:00<?, ?it/s]"
      ]
     },
     "metadata": {},
     "output_type": "display_data"
    },
    {
     "name": "stdout",
     "output_type": "stream",
     "text": [
      "\n",
      "Training set epoch 5: Avg. loss: 0.0000, Accuracy: 54848/55000 (99.72%)\n",
      "\n",
      "\n",
      "Validation set: Avg. loss: 0.0000, Accuracy: 4957/5000 (99.14%)\n",
      "\n"
     ]
    },
    {
     "data": {
      "application/vnd.jupyter.widget-view+json": {
       "model_id": "c10b88a560de4ac4aeab3578ce70a0b3",
       "version_major": 2,
       "version_minor": 0
      },
      "text/plain": [
       "  0%|          | 0/55 [00:00<?, ?it/s]"
      ]
     },
     "metadata": {},
     "output_type": "display_data"
    },
    {
     "name": "stdout",
     "output_type": "stream",
     "text": [
      "\n",
      "Training set epoch 6: Avg. loss: 0.0000, Accuracy: 54886/55000 (99.79%)\n",
      "\n",
      "\n",
      "Validation set: Avg. loss: 0.0000, Accuracy: 4961/5000 (99.22%)\n",
      "\n"
     ]
    },
    {
     "data": {
      "application/vnd.jupyter.widget-view+json": {
       "model_id": "ea06fdbca34943ea8c934b02b7c195a3",
       "version_major": 2,
       "version_minor": 0
      },
      "text/plain": [
       "  0%|          | 0/55 [00:00<?, ?it/s]"
      ]
     },
     "metadata": {},
     "output_type": "display_data"
    },
    {
     "name": "stdout",
     "output_type": "stream",
     "text": [
      "\n",
      "Training set epoch 7: Avg. loss: 0.0000, Accuracy: 54835/55000 (99.70%)\n",
      "\n",
      "\n",
      "Validation set: Avg. loss: 0.0000, Accuracy: 4960/5000 (99.20%)\n",
      "\n"
     ]
    },
    {
     "data": {
      "application/vnd.jupyter.widget-view+json": {
       "model_id": "78d8f6f598a04d968a487e07aaf85784",
       "version_major": 2,
       "version_minor": 0
      },
      "text/plain": [
       "  0%|          | 0/55 [00:00<?, ?it/s]"
      ]
     },
     "metadata": {},
     "output_type": "display_data"
    },
    {
     "name": "stdout",
     "output_type": "stream",
     "text": [
      "\n",
      "Training set epoch 8: Avg. loss: 0.0000, Accuracy: 54898/55000 (99.81%)\n",
      "\n",
      "\n",
      "Validation set: Avg. loss: 0.0000, Accuracy: 4963/5000 (99.26%)\n",
      "\n"
     ]
    },
    {
     "data": {
      "application/vnd.jupyter.widget-view+json": {
       "model_id": "fd5f6c5c407248f08a763941c6f21be4",
       "version_major": 2,
       "version_minor": 0
      },
      "text/plain": [
       "  0%|          | 0/55 [00:00<?, ?it/s]"
      ]
     },
     "metadata": {},
     "output_type": "display_data"
    },
    {
     "name": "stdout",
     "output_type": "stream",
     "text": [
      "\n",
      "Training set epoch 9: Avg. loss: 0.0000, Accuracy: 54907/55000 (99.83%)\n",
      "\n",
      "\n",
      "Validation set: Avg. loss: 0.0000, Accuracy: 4957/5000 (99.14%)\n",
      "\n",
      "\n",
      "Test set: Avg. loss: 0.0000, Accuracy: 9922/10000 (99.22%)\n",
      "\n"
     ]
    }
   ],
   "source": [
    "train,val,test=get_data(data_set=pars.data_set)\n",
    "pars.new_model_name = 'model_continue'\n",
    "pars.inp_dim=train[0][0].shape\n",
    "net = MNIST_Net(pars).to(pars.device)\n",
    "\n",
    "print(pars.__dict__)\n",
    "state_dict = torch.load(datadir+'tmp/'+pars.model_name, map_location = 'cpu')\n",
    "net.load_state_dict(state_dict)\n",
    "net.eval()\n",
    "for i in range(pars.num_epochs):\n",
    "    run_epoch(net,i,train,pars, num=pars.numtrain, ttype=\"train\")\n",
    "    net_test(net,val,pars)\n",
    "\n",
    "net_test(net,test,pars, ttype=\"test\")\n",
    "#save model\n",
    "torch.save(net.state_dict(), datadir+\"tmp/\"+pars.model_name)"
   ]
  },
  {
   "cell_type": "markdown",
   "metadata": {
    "id": "qKKvii--ORXM"
   },
   "source": [
    "### Shift the mnist data randomly in both coordinates and create new perturbed test set.\n"
   ]
  },
  {
   "cell_type": "code",
   "execution_count": 30,
   "metadata": {
    "id": "LlSpzYYTYeMQ"
   },
   "outputs": [],
   "source": [
    "import pylab as py\n",
    "def get_mnist_trans(test,shift):\n",
    "    ll=test.shape[0]\n",
    "    shift2=shift//2\n",
    "    uu=np.int32((np.random.rand(ll,2)-.5)*shift)\n",
    "    test_t=[]\n",
    "    for i,t in enumerate(test):\n",
    "        tt=np.zeros((28+shift+1,28+shift+1))\n",
    "        tt[shift2:shift2+28,shift2:shift2+28]=t\n",
    "        ttt=tt[shift2+uu[i,0]:shift2+uu[i,0]+28,shift2+uu[i,1]:shift2+uu[i,1]+28]\n",
    "        test_t.append(ttt.reshape(1,28,28))\n",
    "    test_trans_dat=np.float32(np.concatenate(test_t,axis=0).reshape((-1,1,28,28)))\n",
    "    for j in range(20):\n",
    "      py.subplot(1,20,j+1)\n",
    "      py.imshow(test_trans_dat[j,0])\n",
    "      py.axis('off')\n",
    "    py.show()\n",
    "    print(test_trans_dat.shape)\n",
    "    return test_trans_dat"
   ]
  },
  {
   "cell_type": "markdown",
   "metadata": {},
   "source": [
    "## 1.a\n",
    "Conv1 layer: 1 * 5 * 5 * 32 + 32 (bias terms) = 832 parameters.\n",
    "Conv2 layer: 32 * 5 * 5 * 64 + 64 (bias terms) = 51,264 parameters.\n",
    "Fc1 layer: The input dimension (self.inp) is calculated during the first forward pass, and the output dimension is 256 (self.mid_layer). Based on the provided input, I assume the input dimension is 7 * 7 * 64 = 3136 (since MNIST images are 28x28, and after two pooling layers with stride 2, the spatial dimensions are reduced to 7x7). So, the total number of parameters in fc1 is 3136 * 256 + 256 (bias terms) = 803,072 parameters.\n",
    "Fc_final layer: The input dimension is 256 (self.mid_layer), and the output dimension is 10. So, the total number of parameters in fc_final is 256 * 10 + 10 (bias terms) = 2570 parameters.\n",
    "The total number of parameters in the model is the sum of the parameters in conv1, conv2, fc1, and fc_final, which is 832 + 51,264 + 803,072 + 2570 = 857,738 parameters.\n",
    "\n"
   ]
  },
  {
   "cell_type": "code",
   "execution_count": 31,
   "metadata": {},
   "outputs": [
    {
     "data": {
      "image/png": "[encoded data removed]",
      "text/plain": [
       "<Figure size 432x288 with 1 Axes>"
      ]
     },
     "metadata": {
      "needs_background": "light"
     },
     "output_type": "display_data"
    }
   ],
   "source": [
    "import matplotlib.pyplot as plt\n",
    "epochs = np.arange(1, pars.num_epochs + 1)\n",
    "plt.figure()\n",
    "plt.plot(epochs, 100 - np.array(train_accuracies), label=\"Training Error\")\n",
    "plt.plot(epochs, 100 - np.array(val_accuracies), label=\"Validation Error\")\n",
    "plt.xlabel(\"Epoch\")\n",
    "plt.ylabel(\"Error Rate (%)\")\n",
    "plt.legend()\n",
    "plt.title(\"Error Rate vs Epoch\")\n",
    "plt.show()"
   ]
  },
  {
   "cell_type": "code",
   "execution_count": 32,
   "metadata": {},
   "outputs": [
    {
     "data": {
      "image/png": "[encoded data removed]",
      "text/plain": [
       "<Figure size 576x576 with 32 Axes>"
      ]
     },
     "metadata": {
      "needs_background": "light"
     },
     "output_type": "display_data"
    }
   ],
   "source": [
    "def visualize_filters(net):\n",
    "    # Get the weights of the first conv layer\n",
    "    weight_tensor = net.conv1.weight.data.cpu()\n",
    "\n",
    "    # Create a grid of subplots\n",
    "    fig, axarr = plt.subplots(4, 8, figsize=(8, 8))\n",
    "\n",
    "    # Plot each filter as an image\n",
    "    for i in range(4):\n",
    "        for j in range(8):\n",
    "            ax = axarr[i, j]\n",
    "            ax.imshow(weight_tensor[i * 8 + j, 0, :, :], cmap=\"gray\")\n",
    "            ax.axis('off')\n",
    "\n",
    "    plt.show()\n",
    "\n",
    "# Visualize the filters of the first layer\n",
    "visualize_filters(net)"
   ]
  },
  {
   "cell_type": "markdown",
   "metadata": {},
   "source": [
    "## 1.b"
   ]
  },
  {
   "cell_type": "code",
   "execution_count": 33,
   "metadata": {},
   "outputs": [
    {
     "name": "stdout",
     "output_type": "stream",
     "text": [
      "(70000, 784)\n",
      "conv1 torch.Size([1, 16, 14, 14])\n",
      "conv2 torch.Size([1, 32, 7, 7])\n",
      "input dimension to fc1 1568\n",
      "conv1.weight torch.Size([16, 1, 5, 5])\n",
      "conv1.bias torch.Size([16])\n",
      "conv2.weight torch.Size([32, 16, 5, 5])\n",
      "conv2.bias torch.Size([32])\n",
      "fc1.weight torch.Size([256, 1568])\n",
      "fc1.bias torch.Size([256])\n",
      "fc_final.weight torch.Size([10, 256])\n",
      "fc_final.bias torch.Size([10])\n",
      "tot_pars 417482\n"
     ]
    },
    {
     "data": {
      "application/vnd.jupyter.widget-view+json": {
       "model_id": "b11912c7013c4cc2969460d9b30a2a8a",
       "version_major": 2,
       "version_minor": 0
      },
      "text/plain": [
       "  0%|          | 0/55 [00:00<?, ?it/s]"
      ]
     },
     "metadata": {},
     "output_type": "display_data"
    },
    {
     "name": "stdout",
     "output_type": "stream",
     "text": [
      "\n",
      "Training set epoch 0: Avg. loss: 0.0008, Accuracy: 44167/55000 (80.30%)\n",
      "\n",
      "\n",
      "Validation set: Avg. loss: 0.0003, Accuracy: 4616/5000 (92.32%)\n",
      "\n"
     ]
    },
    {
     "data": {
      "application/vnd.jupyter.widget-view+json": {
       "model_id": "006c23e39d0040b591bcde18d1341dd0",
       "version_major": 2,
       "version_minor": 0
      },
      "text/plain": [
       "  0%|          | 0/55 [00:00<?, ?it/s]"
      ]
     },
     "metadata": {},
     "output_type": "display_data"
    },
    {
     "name": "stdout",
     "output_type": "stream",
     "text": [
      "\n",
      "Training set epoch 1: Avg. loss: 0.0002, Accuracy: 51846/55000 (94.27%)\n",
      "\n",
      "\n",
      "Validation set: Avg. loss: 0.0001, Accuracy: 4777/5000 (95.54%)\n",
      "\n"
     ]
    },
    {
     "data": {
      "application/vnd.jupyter.widget-view+json": {
       "model_id": "eee21639c8864b679cebf3222dc34299",
       "version_major": 2,
       "version_minor": 0
      },
      "text/plain": [
       "  0%|          | 0/55 [00:00<?, ?it/s]"
      ]
     },
     "metadata": {},
     "output_type": "display_data"
    },
    {
     "name": "stdout",
     "output_type": "stream",
     "text": [
      "\n",
      "Training set epoch 2: Avg. loss: 0.0001, Accuracy: 53104/55000 (96.55%)\n",
      "\n",
      "\n",
      "Validation set: Avg. loss: 0.0001, Accuracy: 4839/5000 (96.78%)\n",
      "\n"
     ]
    },
    {
     "data": {
      "application/vnd.jupyter.widget-view+json": {
       "model_id": "c9c9603126b34366b377b88523ecec52",
       "version_major": 2,
       "version_minor": 0
      },
      "text/plain": [
       "  0%|          | 0/55 [00:00<?, ?it/s]"
      ]
     },
     "metadata": {},
     "output_type": "display_data"
    },
    {
     "name": "stdout",
     "output_type": "stream",
     "text": [
      "\n",
      "Training set epoch 3: Avg. loss: 0.0001, Accuracy: 53584/55000 (97.43%)\n",
      "\n",
      "\n",
      "Validation set: Avg. loss: 0.0001, Accuracy: 4882/5000 (97.64%)\n",
      "\n"
     ]
    },
    {
     "data": {
      "application/vnd.jupyter.widget-view+json": {
       "model_id": "92b0a0e8dea24b1bb9a8995f055a6fcd",
       "version_major": 2,
       "version_minor": 0
      },
      "text/plain": [
       "  0%|          | 0/55 [00:00<?, ?it/s]"
      ]
     },
     "metadata": {},
     "output_type": "display_data"
    },
    {
     "name": "stdout",
     "output_type": "stream",
     "text": [
      "\n",
      "Training set epoch 4: Avg. loss: 0.0001, Accuracy: 53910/55000 (98.02%)\n",
      "\n",
      "\n",
      "Validation set: Avg. loss: 0.0001, Accuracy: 4909/5000 (98.18%)\n",
      "\n"
     ]
    },
    {
     "data": {
      "application/vnd.jupyter.widget-view+json": {
       "model_id": "5d8fca7d22d64209820c4ddfc75c7024",
       "version_major": 2,
       "version_minor": 0
      },
      "text/plain": [
       "  0%|          | 0/55 [00:00<?, ?it/s]"
      ]
     },
     "metadata": {},
     "output_type": "display_data"
    },
    {
     "name": "stdout",
     "output_type": "stream",
     "text": [
      "\n",
      "Training set epoch 5: Avg. loss: 0.0001, Accuracy: 54094/55000 (98.35%)\n",
      "\n",
      "\n",
      "Validation set: Avg. loss: 0.0001, Accuracy: 4916/5000 (98.32%)\n",
      "\n"
     ]
    },
    {
     "data": {
      "application/vnd.jupyter.widget-view+json": {
       "model_id": "eb53e71d717642c2ac42b6a37d4156fb",
       "version_major": 2,
       "version_minor": 0
      },
      "text/plain": [
       "  0%|          | 0/55 [00:00<?, ?it/s]"
      ]
     },
     "metadata": {},
     "output_type": "display_data"
    },
    {
     "name": "stdout",
     "output_type": "stream",
     "text": [
      "\n",
      "Training set epoch 6: Avg. loss: 0.0000, Accuracy: 54203/55000 (98.55%)\n",
      "\n",
      "\n",
      "Validation set: Avg. loss: 0.0000, Accuracy: 4930/5000 (98.60%)\n",
      "\n"
     ]
    },
    {
     "data": {
      "application/vnd.jupyter.widget-view+json": {
       "model_id": "dd0ab875ddd64cdbac041bf1af486c15",
       "version_major": 2,
       "version_minor": 0
      },
      "text/plain": [
       "  0%|          | 0/55 [00:00<?, ?it/s]"
      ]
     },
     "metadata": {},
     "output_type": "display_data"
    },
    {
     "name": "stdout",
     "output_type": "stream",
     "text": [
      "\n",
      "Training set epoch 7: Avg. loss: 0.0000, Accuracy: 54309/55000 (98.74%)\n",
      "\n",
      "\n",
      "Validation set: Avg. loss: 0.0000, Accuracy: 4940/5000 (98.80%)\n",
      "\n"
     ]
    },
    {
     "data": {
      "application/vnd.jupyter.widget-view+json": {
       "model_id": "cf2d5395a761447995e09ac8577d73bf",
       "version_major": 2,
       "version_minor": 0
      },
      "text/plain": [
       "  0%|          | 0/55 [00:00<?, ?it/s]"
      ]
     },
     "metadata": {},
     "output_type": "display_data"
    },
    {
     "name": "stdout",
     "output_type": "stream",
     "text": [
      "\n",
      "Training set epoch 8: Avg. loss: 0.0000, Accuracy: 54394/55000 (98.90%)\n",
      "\n",
      "\n",
      "Validation set: Avg. loss: 0.0000, Accuracy: 4941/5000 (98.82%)\n",
      "\n"
     ]
    },
    {
     "data": {
      "application/vnd.jupyter.widget-view+json": {
       "model_id": "4862ed4f401640d684797ba4114d5943",
       "version_major": 2,
       "version_minor": 0
      },
      "text/plain": [
       "  0%|          | 0/55 [00:00<?, ?it/s]"
      ]
     },
     "metadata": {},
     "output_type": "display_data"
    },
    {
     "name": "stdout",
     "output_type": "stream",
     "text": [
      "\n",
      "Training set epoch 9: Avg. loss: 0.0000, Accuracy: 54426/55000 (98.96%)\n",
      "\n",
      "\n",
      "Validation set: Avg. loss: 0.0000, Accuracy: 4947/5000 (98.94%)\n",
      "\n",
      "\n",
      "Test set: Avg. loss: 0.0000, Accuracy: 9905/10000 (99.05%)\n",
      "\n"
     ]
    },
    {
     "data": {
      "image/png": "[encoded data removed]",
      "text/plain": [
       "<Figure size 432x288 with 1 Axes>"
      ]
     },
     "metadata": {
      "needs_background": "light"
     },
     "output_type": "display_data"
    }
   ],
   "source": [
    "class MNIST_Net_half(nn.Module):\n",
    "    def __init__(self,pars):\n",
    "        super(MNIST_Net_half, self).__init__()\n",
    "        \n",
    "        ks=pars.kernel_size\n",
    "        ps=np.int32(pars.pool_size)\n",
    "        self.mid_layer=pars.mid_layer\n",
    "        # Two successive convolutional layers.\n",
    "        # Two pooling layers that come after convolutional layers.\n",
    "        # Two dropout layers.\n",
    "        self.conv1 = nn.Conv2d(1, 16, kernel_size=ks[0],padding=ks[0]//2)\n",
    "        self.pool1=nn.MaxPool2d(kernel_size=[ps],stride=2)\n",
    "        self.conv2 = nn.Conv2d(16, 32, kernel_size=ks[1],padding=ks[1]//2)\n",
    "        self.drop2 = nn.Dropout2d(pars.dropout)\n",
    "        self.pool2=nn.MaxPool2d(kernel_size=2,stride=2)\n",
    "        self.drop_final=nn.Dropout(pars.dropout)\n",
    "       \n",
    "               \n",
    "        \n",
    "        # Run the network one time on one dummy data point of the same \n",
    "        # dimension as the input images to get dimensions of fully connected \n",
    "        # layer that comes after second convolutional layers\n",
    "        self.first=True\n",
    "        if self.first:\n",
    "            self.forward(torch.zeros((1,)+pars.inp_dim))\n",
    "            \n",
    "        # Setup the optimizer type and send it the parameters of the model\n",
    "        if pars.minimizer == 'Adam':\n",
    "            self.optimizer = torch.optim.Adam(self.parameters(), lr = pars.step_size)\n",
    "        else:\n",
    "            self.optimizer = torch.optim.SGD(self.parameters(), lr = pars.step_size)\n",
    "         \n",
    "        self.criterion=nn.CrossEntropyLoss()\n",
    "        \n",
    "    def forward(self, x):\n",
    "        \n",
    "        # Apply relu to a pooled conv1 layer.\n",
    "        x = F.relu(self.pool1(self.conv1(x)))\n",
    "        if self.first:\n",
    "            print('conv1',x.shape)\n",
    "        # Apply relu to a pooled conv2 layer with a drop layer inbetween.\n",
    "        x = self.drop2(F.relu(self.pool2(self.conv2(x))))\n",
    "        if self.first:\n",
    "            print('conv2',x.shape)\n",
    "        \n",
    "        if self.first:\n",
    "            self.first=False\n",
    "            self.inp=x.shape[1]*x.shape[2]*x.shape[3]\n",
    "            # Compute dimension of output of x and setup a fully connected layer with that input dim \n",
    "            # pars.mid_layer output dim. Then setup final 10 node output layer.\n",
    "            print('input dimension to fc1',self.inp)\n",
    "            if self.mid_layer is not None:\n",
    "                self.fc1 = nn.Linear(self.inp, self.mid_layer)\n",
    "                self.fc_final = nn.Linear(self.mid_layer, 10)\n",
    "            else:\n",
    "                self.fc1=nn.Identity()\n",
    "                self.fc_final = nn.Linear(self.inp, 10)\n",
    "            # Print out all network parameter shapes and compute total:\n",
    "            tot_pars=0\n",
    "            for k,p in self.named_parameters():\n",
    "                tot_pars+=p.numel()\n",
    "                print(k,p.shape)\n",
    "            print('tot_pars',tot_pars)\n",
    "        x = x.reshape(-1, self.inp)\n",
    "        x = F.relu(self.fc1(x))\n",
    "        x = self.drop_final(x)\n",
    "        x = self.fc_final(x)\n",
    "        return x\n",
    "    \n",
    "    # Run the network on the data, compute the loss, compute the predictions and compute classification rate/\n",
    "    def get_acc_and_loss(self, data, targ):\n",
    "        output = self.forward(data)\n",
    "        loss = self.criterion(output, targ)\n",
    "        pred = torch.max(output,1)[1]\n",
    "        correct = torch.eq(pred,targ).sum()\n",
    "        \n",
    "        return loss,correct\n",
    "    \n",
    "    # Compute classification and loss and then do a gradient step on the loss.\n",
    "    def run_grad(self,data,targ):\n",
    "    \n",
    "        loss, correct=self.get_acc_and_loss(data,targ)\n",
    "        self.optimizer.zero_grad()\n",
    "        loss.backward()\n",
    "        self.optimizer.step()\n",
    "        \n",
    "        return loss, correct\n",
    "    \n",
    "        \n",
    "# use GPU when possible\n",
    "pars.device = device\n",
    "pars.kernel_size=[5,5]\n",
    "train,val,test=get_data(data_set=pars.data_set)\n",
    "pars.inp_dim=train[0][0].shape\n",
    "# Initialize the network\n",
    "net_half = MNIST_Net_half(pars).to(pars.device)\n",
    "# Post it to the gpu if its there.\n",
    "net_half.to(pars.device)\n",
    "\n",
    "\n",
    "train=(train[0][0:pars.numtrain],train[1][0:pars.numtrain])\n",
    "\n",
    "train_losses, train_accuracies, val_losses, val_accuracies = [], [], [], []\n",
    "for i in range(pars.num_epochs):\n",
    "    # Run one epoch of training\n",
    "    train_loss, train_accuracy = run_epoch(net_half,i,train, pars, num=pars.numtrain, ttype=\"train\")\n",
    "    # Test on validation set.\n",
    "    val_loss, val_accuracy = net_test(net_half,val,pars)\n",
    "    train_losses.append(train_loss)\n",
    "    train_accuracies.append(train_accuracy)\n",
    "    val_losses.append(val_loss)\n",
    "    val_accuracies.append(val_accuracy)\n",
    "\n",
    "\n",
    "\n",
    "net_test(net_half,test,pars,ttype=\"test\")\n",
    "\n",
    "epochs = np.arange(1, pars.num_epochs + 1)\n",
    "plt.figure()\n",
    "plt.plot(epochs, 100 - np.array(train_accuracies), label=\"Training Error\")\n",
    "plt.plot(epochs, 100 - np.array(val_accuracies), label=\"Validation Error\")\n",
    "plt.xlabel(\"Epoch\")\n",
    "plt.ylabel(\"Error Rate (%)\")\n",
    "plt.legend()\n",
    "plt.title(\"Error Rate vs Epoch\")\n",
    "plt.show()"
   ]
  },
  {
   "cell_type": "code",
   "execution_count": 34,
   "metadata": {},
   "outputs": [
    {
     "name": "stdout",
     "output_type": "stream",
     "text": [
      "(70000, 784)\n",
      "conv1 torch.Size([1, 64, 14, 14])\n",
      "conv2 torch.Size([1, 128, 7, 7])\n",
      "input dimension to fc1 6272\n",
      "conv1.weight torch.Size([64, 1, 5, 5])\n",
      "conv1.bias torch.Size([64])\n",
      "conv2.weight torch.Size([128, 64, 5, 5])\n",
      "conv2.bias torch.Size([128])\n",
      "fc1.weight torch.Size([256, 6272])\n",
      "fc1.bias torch.Size([256])\n",
      "fc_final.weight torch.Size([10, 256])\n",
      "fc_final.bias torch.Size([10])\n",
      "tot_pars 1815050\n"
     ]
    },
    {
     "data": {
      "application/vnd.jupyter.widget-view+json": {
       "model_id": "0f586e44eaf04998aca47f367460da9b",
       "version_major": 2,
       "version_minor": 0
      },
      "text/plain": [
       "  0%|          | 0/55 [00:00<?, ?it/s]"
      ]
     },
     "metadata": {},
     "output_type": "display_data"
    },
    {
     "name": "stdout",
     "output_type": "stream",
     "text": [
      "\n",
      "Training set epoch 0: Avg. loss: 0.0005, Accuracy: 46803/55000 (85.10%)\n",
      "\n",
      "\n",
      "Validation set: Avg. loss: 0.0001, Accuracy: 4797/5000 (95.94%)\n",
      "\n"
     ]
    },
    {
     "data": {
      "application/vnd.jupyter.widget-view+json": {
       "model_id": "1be9afb6c9f944e191fea25416b8b6a5",
       "version_major": 2,
       "version_minor": 0
      },
      "text/plain": [
       "  0%|          | 0/55 [00:00<?, ?it/s]"
      ]
     },
     "metadata": {},
     "output_type": "display_data"
    },
    {
     "name": "stdout",
     "output_type": "stream",
     "text": [
      "\n",
      "Training set epoch 1: Avg. loss: 0.0001, Accuracy: 53669/55000 (97.58%)\n",
      "\n",
      "\n",
      "Validation set: Avg. loss: 0.0001, Accuracy: 4891/5000 (97.82%)\n",
      "\n"
     ]
    },
    {
     "data": {
      "application/vnd.jupyter.widget-view+json": {
       "model_id": "b9da534b10c5484585ffeb7bce00e1dd",
       "version_major": 2,
       "version_minor": 0
      },
      "text/plain": [
       "  0%|          | 0/55 [00:00<?, ?it/s]"
      ]
     },
     "metadata": {},
     "output_type": "display_data"
    },
    {
     "name": "stdout",
     "output_type": "stream",
     "text": [
      "\n",
      "Training set epoch 2: Avg. loss: 0.0000, Accuracy: 54202/55000 (98.55%)\n",
      "\n",
      "\n",
      "Validation set: Avg. loss: 0.0001, Accuracy: 4916/5000 (98.32%)\n",
      "\n"
     ]
    },
    {
     "data": {
      "application/vnd.jupyter.widget-view+json": {
       "model_id": "c5c753e9889d46909012afab0945b90b",
       "version_major": 2,
       "version_minor": 0
      },
      "text/plain": [
       "  0%|          | 0/55 [00:00<?, ?it/s]"
      ]
     },
     "metadata": {},
     "output_type": "display_data"
    },
    {
     "name": "stdout",
     "output_type": "stream",
     "text": [
      "\n",
      "Training set epoch 3: Avg. loss: 0.0000, Accuracy: 54451/55000 (99.00%)\n",
      "\n",
      "\n",
      "Validation set: Avg. loss: 0.0001, Accuracy: 4918/5000 (98.36%)\n",
      "\n"
     ]
    },
    {
     "data": {
      "application/vnd.jupyter.widget-view+json": {
       "model_id": "967af50156574cbc9820d814a6e33abf",
       "version_major": 2,
       "version_minor": 0
      },
      "text/plain": [
       "  0%|          | 0/55 [00:00<?, ?it/s]"
      ]
     },
     "metadata": {},
     "output_type": "display_data"
    },
    {
     "name": "stdout",
     "output_type": "stream",
     "text": [
      "\n",
      "Training set epoch 4: Avg. loss: 0.0000, Accuracy: 54537/55000 (99.16%)\n",
      "\n",
      "\n",
      "Validation set: Avg. loss: 0.0000, Accuracy: 4933/5000 (98.66%)\n",
      "\n"
     ]
    },
    {
     "data": {
      "application/vnd.jupyter.widget-view+json": {
       "model_id": "0d15c220cd024c4fae00e66aa223c0ea",
       "version_major": 2,
       "version_minor": 0
      },
      "text/plain": [
       "  0%|          | 0/55 [00:00<?, ?it/s]"
      ]
     },
     "metadata": {},
     "output_type": "display_data"
    },
    {
     "name": "stdout",
     "output_type": "stream",
     "text": [
      "\n",
      "Training set epoch 5: Avg. loss: 0.0000, Accuracy: 54656/55000 (99.37%)\n",
      "\n",
      "\n",
      "Validation set: Avg. loss: 0.0000, Accuracy: 4939/5000 (98.78%)\n",
      "\n"
     ]
    },
    {
     "data": {
      "application/vnd.jupyter.widget-view+json": {
       "model_id": "5c63d2e207f24fe2bbafac8694d7d8fc",
       "version_major": 2,
       "version_minor": 0
      },
      "text/plain": [
       "  0%|          | 0/55 [00:00<?, ?it/s]"
      ]
     },
     "metadata": {},
     "output_type": "display_data"
    },
    {
     "name": "stdout",
     "output_type": "stream",
     "text": [
      "\n",
      "Training set epoch 6: Avg. loss: 0.0000, Accuracy: 54681/55000 (99.42%)\n",
      "\n",
      "\n",
      "Validation set: Avg. loss: 0.0000, Accuracy: 4948/5000 (98.96%)\n",
      "\n"
     ]
    },
    {
     "data": {
      "application/vnd.jupyter.widget-view+json": {
       "model_id": "82d89e05b84f47d38af6414a9d04a3f2",
       "version_major": 2,
       "version_minor": 0
      },
      "text/plain": [
       "  0%|          | 0/55 [00:00<?, ?it/s]"
      ]
     },
     "metadata": {},
     "output_type": "display_data"
    },
    {
     "name": "stdout",
     "output_type": "stream",
     "text": [
      "\n",
      "Training set epoch 7: Avg. loss: 0.0000, Accuracy: 54735/55000 (99.52%)\n",
      "\n",
      "\n",
      "Validation set: Avg. loss: 0.0000, Accuracy: 4938/5000 (98.76%)\n",
      "\n"
     ]
    },
    {
     "data": {
      "application/vnd.jupyter.widget-view+json": {
       "model_id": "f4932e17545d4022ada9d1e203522df0",
       "version_major": 2,
       "version_minor": 0
      },
      "text/plain": [
       "  0%|          | 0/55 [00:00<?, ?it/s]"
      ]
     },
     "metadata": {},
     "output_type": "display_data"
    },
    {
     "name": "stdout",
     "output_type": "stream",
     "text": [
      "\n",
      "Training set epoch 8: Avg. loss: 0.0000, Accuracy: 54759/55000 (99.56%)\n",
      "\n",
      "\n",
      "Validation set: Avg. loss: 0.0000, Accuracy: 4945/5000 (98.90%)\n",
      "\n"
     ]
    },
    {
     "data": {
      "application/vnd.jupyter.widget-view+json": {
       "model_id": "c4f15ac2ecc24f11a3ce1687fe3a00bc",
       "version_major": 2,
       "version_minor": 0
      },
      "text/plain": [
       "  0%|          | 0/55 [00:00<?, ?it/s]"
      ]
     },
     "metadata": {},
     "output_type": "display_data"
    },
    {
     "name": "stdout",
     "output_type": "stream",
     "text": [
      "\n",
      "Training set epoch 9: Avg. loss: 0.0000, Accuracy: 54852/55000 (99.73%)\n",
      "\n",
      "\n",
      "Validation set: Avg. loss: 0.0000, Accuracy: 4948/5000 (98.96%)\n",
      "\n",
      "\n",
      "Test set: Avg. loss: 0.0000, Accuracy: 9910/10000 (99.10%)\n",
      "\n"
     ]
    },
    {
     "data": {
      "image/png": "[encoded data removed]",
      "text/plain": [
       "<Figure size 432x288 with 1 Axes>"
      ]
     },
     "metadata": {
      "needs_background": "light"
     },
     "output_type": "display_data"
    }
   ],
   "source": [
    "class MNIST_Net_double(nn.Module):\n",
    "    def __init__(self,pars):\n",
    "        super(MNIST_Net_double, self).__init__()\n",
    "        \n",
    "        ks=pars.kernel_size\n",
    "        ps=np.int32(pars.pool_size)\n",
    "        self.mid_layer=pars.mid_layer\n",
    "        # Two successive convolutional layers.\n",
    "        # Two pooling layers that come after convolutional layers.\n",
    "        # Two dropout layers.\n",
    "        self.conv1 = nn.Conv2d(1, 64, kernel_size=ks[0],padding=ks[0]//2)\n",
    "        self.pool1=nn.MaxPool2d(kernel_size=[ps],stride=2)\n",
    "        self.conv2 = nn.Conv2d(64, 128, kernel_size=ks[1],padding=ks[1]//2)\n",
    "        self.drop2 = nn.Dropout2d(pars.dropout)\n",
    "        self.pool2=nn.MaxPool2d(kernel_size=2,stride=2)\n",
    "        self.drop_final=nn.Dropout(pars.dropout)\n",
    "       \n",
    "               \n",
    "        \n",
    "        # Run the network one time on one dummy data point of the same \n",
    "        # dimension as the input images to get dimensions of fully connected \n",
    "        # layer that comes after second convolutional layers\n",
    "        self.first=True\n",
    "        if self.first:\n",
    "            self.forward(torch.zeros((1,)+pars.inp_dim))\n",
    "            \n",
    "        # Setup the optimizer type and send it the parameters of the model\n",
    "        if pars.minimizer == 'Adam':\n",
    "            self.optimizer = torch.optim.Adam(self.parameters(), lr = pars.step_size)\n",
    "        else:\n",
    "            self.optimizer = torch.optim.SGD(self.parameters(), lr = pars.step_size)\n",
    "         \n",
    "        self.criterion=nn.CrossEntropyLoss()\n",
    "        \n",
    "    def forward(self, x):\n",
    "        \n",
    "        # Apply relu to a pooled conv1 layer.\n",
    "        x = F.relu(self.pool1(self.conv1(x)))\n",
    "        if self.first:\n",
    "            print('conv1',x.shape)\n",
    "        # Apply relu to a pooled conv2 layer with a drop layer inbetween.\n",
    "        x = self.drop2(F.relu(self.pool2(self.conv2(x))))\n",
    "        if self.first:\n",
    "            print('conv2',x.shape)\n",
    "        \n",
    "        if self.first:\n",
    "            self.first=False\n",
    "            self.inp=x.shape[1]*x.shape[2]*x.shape[3]\n",
    "            # Compute dimension of output of x and setup a fully connected layer with that input dim \n",
    "            # pars.mid_layer output dim. Then setup final 10 node output layer.\n",
    "            print('input dimension to fc1',self.inp)\n",
    "            if self.mid_layer is not None:\n",
    "                self.fc1 = nn.Linear(self.inp, self.mid_layer)\n",
    "                self.fc_final = nn.Linear(self.mid_layer, 10)\n",
    "            else:\n",
    "                self.fc1=nn.Identity()\n",
    "                self.fc_final = nn.Linear(self.inp, 10)\n",
    "            # Print out all network parameter shapes and compute total:\n",
    "            tot_pars=0\n",
    "            for k,p in self.named_parameters():\n",
    "                tot_pars+=p.numel()\n",
    "                print(k,p.shape)\n",
    "            print('tot_pars',tot_pars)\n",
    "        x = x.reshape(-1, self.inp)\n",
    "        x = F.relu(self.fc1(x))\n",
    "        x = self.drop_final(x)\n",
    "        x = self.fc_final(x)\n",
    "        return x\n",
    "    \n",
    "    # Run the network on the data, compute the loss, compute the predictions and compute classification rate/\n",
    "    def get_acc_and_loss(self, data, targ):\n",
    "        output = self.forward(data)\n",
    "        loss = self.criterion(output, targ)\n",
    "        pred = torch.max(output,1)[1]\n",
    "        correct = torch.eq(pred,targ).sum()\n",
    "        \n",
    "        return loss,correct\n",
    "    \n",
    "    # Compute classification and loss and then do a gradient step on the loss.\n",
    "    def run_grad(self,data,targ):\n",
    "    \n",
    "        loss, correct=self.get_acc_and_loss(data,targ)\n",
    "        self.optimizer.zero_grad()\n",
    "        loss.backward()\n",
    "        self.optimizer.step()\n",
    "        \n",
    "        return loss, correct\n",
    "    \n",
    "        \n",
    "# use GPU when possible\n",
    "pars.device = device\n",
    "pars.kernel_size=[5,5]\n",
    "train,val,test=get_data(data_set=pars.data_set)\n",
    "pars.inp_dim=train[0][0].shape\n",
    "# Initialize the network\n",
    "net_double = MNIST_Net_double(pars).to(pars.device)\n",
    "# Post it to the gpu if its there.\n",
    "net_double.to(pars.device)\n",
    "\n",
    "\n",
    "train=(train[0][0:pars.numtrain],train[1][0:pars.numtrain])\n",
    "\n",
    "train_losses, train_accuracies, val_losses, val_accuracies = [], [], [], []\n",
    "for i in range(pars.num_epochs):\n",
    "    # Run one epoch of training\n",
    "    train_loss, train_accuracy = run_epoch(net_double,i,train, pars, num=pars.numtrain, ttype=\"train\")\n",
    "    # Test on validation set.\n",
    "    val_loss, val_accuracy = net_test(net_double,val,pars)\n",
    "    train_losses.append(train_loss)\n",
    "    train_accuracies.append(train_accuracy)\n",
    "    val_losses.append(val_loss)\n",
    "    val_accuracies.append(val_accuracy)\n",
    "\n",
    "\n",
    "\n",
    "net_test(net_double,test,pars,ttype=\"test\")\n",
    "\n",
    "epochs = np.arange(1, pars.num_epochs + 1)\n",
    "plt.figure()\n",
    "plt.plot(epochs, 100 - np.array(train_accuracies), label=\"Training Error\")\n",
    "plt.plot(epochs, 100 - np.array(val_accuracies), label=\"Validation Error\")\n",
    "plt.xlabel(\"Epoch\")\n",
    "plt.ylabel(\"Error Rate (%)\")\n",
    "plt.legend()\n",
    "plt.title(\"Error Rate vs Epoch\")\n",
    "plt.show()"
   ]
  },
  {
   "cell_type": "code",
   "execution_count": 35,
   "metadata": {},
   "outputs": [
    {
     "name": "stdout",
     "output_type": "stream",
     "text": [
      "(70000, 784)\n"
     ]
    },
    {
     "data": {
      "application/vnd.jupyter.widget-view+json": {
       "model_id": "87c80a65fb694f2d985533bc69fbd7ec",
       "version_major": 2,
       "version_minor": 0
      },
      "text/plain": [
       "  0%|          | 0/55 [00:00<?, ?it/s]"
      ]
     },
     "metadata": {},
     "output_type": "display_data"
    },
    {
     "name": "stdout",
     "output_type": "stream",
     "text": [
      "\n",
      "Training set epoch 0: Avg. loss: 0.0009, Accuracy: 39602/55000 (72.00%)\n",
      "\n",
      "\n",
      "Validation set: Avg. loss: 0.0003, Accuracy: 4508/5000 (90.16%)\n",
      "\n"
     ]
    },
    {
     "data": {
      "application/vnd.jupyter.widget-view+json": {
       "model_id": "050f2193654442aeb3042304ee028506",
       "version_major": 2,
       "version_minor": 0
      },
      "text/plain": [
       "  0%|          | 0/55 [00:00<?, ?it/s]"
      ]
     },
     "metadata": {},
     "output_type": "display_data"
    },
    {
     "name": "stdout",
     "output_type": "stream",
     "text": [
      "\n",
      "Training set epoch 1: Avg. loss: 0.0002, Accuracy: 50833/55000 (92.42%)\n",
      "\n",
      "\n",
      "Validation set: Avg. loss: 0.0002, Accuracy: 4727/5000 (94.54%)\n",
      "\n"
     ]
    },
    {
     "data": {
      "application/vnd.jupyter.widget-view+json": {
       "model_id": "2250135af63e42d99adff6bc358959df",
       "version_major": 2,
       "version_minor": 0
      },
      "text/plain": [
       "  0%|          | 0/55 [00:00<?, ?it/s]"
      ]
     },
     "metadata": {},
     "output_type": "display_data"
    },
    {
     "name": "stdout",
     "output_type": "stream",
     "text": [
      "\n",
      "Training set epoch 2: Avg. loss: 0.0001, Accuracy: 52818/55000 (96.03%)\n",
      "\n",
      "\n",
      "Validation set: Avg. loss: 0.0001, Accuracy: 4857/5000 (97.14%)\n",
      "\n"
     ]
    },
    {
     "data": {
      "application/vnd.jupyter.widget-view+json": {
       "model_id": "a6ad246b6a03423eb9cbc480655bb38e",
       "version_major": 2,
       "version_minor": 0
      },
      "text/plain": [
       "  0%|          | 0/55 [00:00<?, ?it/s]"
      ]
     },
     "metadata": {},
     "output_type": "display_data"
    },
    {
     "name": "stdout",
     "output_type": "stream",
     "text": [
      "\n",
      "Training set epoch 3: Avg. loss: 0.0001, Accuracy: 53560/55000 (97.38%)\n",
      "\n",
      "\n",
      "Validation set: Avg. loss: 0.0001, Accuracy: 4898/5000 (97.96%)\n",
      "\n"
     ]
    },
    {
     "data": {
      "application/vnd.jupyter.widget-view+json": {
       "model_id": "3ca4164ea6bc40788cd04511d22542d7",
       "version_major": 2,
       "version_minor": 0
      },
      "text/plain": [
       "  0%|          | 0/55 [00:00<?, ?it/s]"
      ]
     },
     "metadata": {},
     "output_type": "display_data"
    },
    {
     "name": "stdout",
     "output_type": "stream",
     "text": [
      "\n",
      "Training set epoch 4: Avg. loss: 0.0001, Accuracy: 53864/55000 (97.93%)\n",
      "\n",
      "\n",
      "Validation set: Avg. loss: 0.0001, Accuracy: 4899/5000 (97.98%)\n",
      "\n"
     ]
    },
    {
     "data": {
      "application/vnd.jupyter.widget-view+json": {
       "model_id": "733891bbebcc4e0585ba8ca9a22596cc",
       "version_major": 2,
       "version_minor": 0
      },
      "text/plain": [
       "  0%|          | 0/55 [00:00<?, ?it/s]"
      ]
     },
     "metadata": {},
     "output_type": "display_data"
    },
    {
     "name": "stdout",
     "output_type": "stream",
     "text": [
      "\n",
      "Training set epoch 5: Avg. loss: 0.0001, Accuracy: 54067/55000 (98.30%)\n",
      "\n",
      "\n",
      "Validation set: Avg. loss: 0.0001, Accuracy: 4912/5000 (98.24%)\n",
      "\n"
     ]
    },
    {
     "data": {
      "application/vnd.jupyter.widget-view+json": {
       "model_id": "5a71456ec3e741f39936abe80345c331",
       "version_major": 2,
       "version_minor": 0
      },
      "text/plain": [
       "  0%|          | 0/55 [00:00<?, ?it/s]"
      ]
     },
     "metadata": {},
     "output_type": "display_data"
    },
    {
     "name": "stdout",
     "output_type": "stream",
     "text": [
      "\n",
      "Training set epoch 6: Avg. loss: 0.0000, Accuracy: 54208/55000 (98.56%)\n",
      "\n",
      "\n",
      "Validation set: Avg. loss: 0.0001, Accuracy: 4918/5000 (98.36%)\n",
      "\n"
     ]
    },
    {
     "data": {
      "application/vnd.jupyter.widget-view+json": {
       "model_id": "1162a5ef04314ad9943c679079b7094e",
       "version_major": 2,
       "version_minor": 0
      },
      "text/plain": [
       "  0%|          | 0/55 [00:00<?, ?it/s]"
      ]
     },
     "metadata": {},
     "output_type": "display_data"
    },
    {
     "name": "stdout",
     "output_type": "stream",
     "text": [
      "\n",
      "Training set epoch 7: Avg. loss: 0.0000, Accuracy: 54288/55000 (98.71%)\n",
      "\n",
      "\n",
      "Validation set: Avg. loss: 0.0000, Accuracy: 4925/5000 (98.50%)\n",
      "\n"
     ]
    },
    {
     "data": {
      "application/vnd.jupyter.widget-view+json": {
       "model_id": "2e84cf02c584477a86b5e108bf82d811",
       "version_major": 2,
       "version_minor": 0
      },
      "text/plain": [
       "  0%|          | 0/55 [00:00<?, ?it/s]"
      ]
     },
     "metadata": {},
     "output_type": "display_data"
    },
    {
     "name": "stdout",
     "output_type": "stream",
     "text": [
      "\n",
      "Training set epoch 8: Avg. loss: 0.0000, Accuracy: 54413/55000 (98.93%)\n",
      "\n",
      "\n",
      "Validation set: Avg. loss: 0.0000, Accuracy: 4925/5000 (98.50%)\n",
      "\n"
     ]
    },
    {
     "data": {
      "application/vnd.jupyter.widget-view+json": {
       "model_id": "baf9c376fa174383a24644964a3f2732",
       "version_major": 2,
       "version_minor": 0
      },
      "text/plain": [
       "  0%|          | 0/55 [00:00<?, ?it/s]"
      ]
     },
     "metadata": {},
     "output_type": "display_data"
    },
    {
     "name": "stdout",
     "output_type": "stream",
     "text": [
      "\n",
      "Training set epoch 9: Avg. loss: 0.0000, Accuracy: 54468/55000 (99.03%)\n",
      "\n",
      "\n",
      "Validation set: Avg. loss: 0.0000, Accuracy: 4944/5000 (98.88%)\n",
      "\n",
      "\n",
      "Test set: Avg. loss: 0.0000, Accuracy: 9859/10000 (98.59%)\n",
      "\n"
     ]
    },
    {
     "data": {
      "image/png": "[encoded data removed]",
      "text/plain": [
       "<Figure size 432x288 with 1 Axes>"
      ]
     },
     "metadata": {
      "needs_background": "light"
     },
     "output_type": "display_data"
    }
   ],
   "source": [
    "class Deep_MNIST_Net(nn.Module):\n",
    "    def __init__(self, pars):\n",
    "        super(Deep_MNIST_Net, self).__init__()\n",
    "\n",
    "        ks = pars.kernel_size\n",
    "        ps = np.int32(pars.pool_size)\n",
    "        self.mid_layer = pars.mid_layer\n",
    "        self.mid_layer2 = pars.mid_layer // 2\n",
    "\n",
    "        self.conv1 = nn.Conv2d(1, 16, kernel_size=ks[0], padding=ks[0] // 2)\n",
    "        self.pool1 = nn.MaxPool2d(kernel_size=[ps], stride=2)\n",
    "        self.conv2 = nn.Conv2d(16, 32, kernel_size=ks[1], padding=ks[1] // 2)\n",
    "        self.pool2 = nn.MaxPool2d(kernel_size=2, stride=2)\n",
    "        self.conv3 = nn.Conv2d(32, 64, kernel_size=ks[2], padding=ks[2] // 2)\n",
    "        self.drop2 = nn.Dropout2d(pars.dropout)\n",
    "\n",
    "        self.first = True\n",
    "        if self.first:\n",
    "            self.forward(torch.zeros((1,) + pars.inp_dim))\n",
    "\n",
    "        if pars.minimizer == 'Adam':\n",
    "            self.optimizer = torch.optim.Adam(self.parameters(), lr=pars.step_size)\n",
    "        else:\n",
    "            self.optimizer = torch.optim.SGD(self.parameters(), lr=pars.step_size)\n",
    "\n",
    "        self.criterion = nn.CrossEntropyLoss()\n",
    "\n",
    "    def forward(self, x):\n",
    "        x = F.relu(self.pool1(self.conv1(x)))\n",
    "        x = F.relu(self.pool2(self.conv2(x)))\n",
    "        x = self.drop2(F.relu(self.conv3(x)))\n",
    "\n",
    "        if self.first:\n",
    "            self.first = False\n",
    "            self.inp = x.shape[1] * x.shape[2] * x.shape[3]\n",
    "            self.fc1 = nn.Linear(self.inp, self.mid_layer)\n",
    "            self.fc2 = nn.Linear(self.mid_layer, self.mid_layer2)\n",
    "            self.fc_final = nn.Linear(self.mid_layer2, 10)\n",
    "\n",
    "        x = x.reshape(-1, self.inp)\n",
    "        x = F.relu(self.fc1(x))\n",
    "        x = F.relu(self.fc2(x))\n",
    "        x = self.fc_final(x)\n",
    "        return x\n",
    "    \n",
    "    # Run the network on the data, compute the loss, compute the predictions and compute classification rate/\n",
    "    def get_acc_and_loss(self, data, targ):\n",
    "        output = self.forward(data)\n",
    "        loss = self.criterion(output, targ)\n",
    "        pred = torch.max(output,1)[1]\n",
    "        correct = torch.eq(pred,targ).sum()\n",
    "        \n",
    "        return loss,correct\n",
    "    \n",
    "    # Compute classification and loss and then do a gradient step on the loss.\n",
    "    def run_grad(self,data,targ):\n",
    "    \n",
    "        loss, correct=self.get_acc_and_loss(data,targ)\n",
    "        self.optimizer.zero_grad()\n",
    "        loss.backward()\n",
    "        self.optimizer.step()\n",
    "        \n",
    "        return loss, correct\n",
    "    \n",
    "        \n",
    "# use GPU when possible\n",
    "pars.device = device\n",
    "pars.kernel_size=[3,3,3]\n",
    "train,val,test=get_data(data_set=pars.data_set)\n",
    "pars.inp_dim=train[0][0].shape\n",
    "# Initialize the network\n",
    "net_deep = Deep_MNIST_Net(pars).to(pars.device)\n",
    "# Post it to the gpu if its there.\n",
    "net_deep.to(pars.device)\n",
    "\n",
    "\n",
    "train=(train[0][0:pars.numtrain],train[1][0:pars.numtrain])\n",
    "\n",
    "train_losses, train_accuracies, val_losses, val_accuracies = [], [], [], []\n",
    "for i in range(pars.num_epochs):\n",
    "    # Run one epoch of training\n",
    "    train_loss, train_accuracy = run_epoch(net_deep,i,train, pars, num=pars.numtrain, ttype=\"train\")\n",
    "    # Test on validation set.\n",
    "    val_loss, val_accuracy = net_test(net_deep,val,pars)\n",
    "    train_losses.append(train_loss)\n",
    "    train_accuracies.append(train_accuracy)\n",
    "    val_losses.append(val_loss)\n",
    "    val_accuracies.append(val_accuracy)\n",
    "\n",
    "\n",
    "\n",
    "net_test(net_deep,test,pars,ttype=\"test\")\n",
    "\n",
    "epochs = np.arange(1, pars.num_epochs + 1)\n",
    "plt.figure()\n",
    "plt.plot(epochs, 100 - np.array(train_accuracies), label=\"Training Error\")\n",
    "plt.plot(epochs, 100 - np.array(val_accuracies), label=\"Validation Error\")\n",
    "plt.xlabel(\"Epoch\")\n",
    "plt.ylabel(\"Error Rate (%)\")\n",
    "plt.legend()\n",
    "plt.title(\"Error Rate vs Epoch\")\n",
    "plt.show()"
   ]
  },
  {
   "cell_type": "markdown",
   "metadata": {},
   "source": [
    "From the above experiments, we can see that the model keeping the same number of layers and doubling the number parameters converges fastest and have the smallest test error. Next try it on the full training set and report the result:"
   ]
  },
  {
   "cell_type": "code",
   "execution_count": 36,
   "metadata": {},
   "outputs": [
    {
     "name": "stdout",
     "output_type": "stream",
     "text": [
      "(70000, 784)\n",
      "conv1 torch.Size([1, 64, 14, 14])\n",
      "conv2 torch.Size([1, 128, 7, 7])\n",
      "input dimension to fc1 6272\n",
      "conv1.weight torch.Size([64, 1, 5, 5])\n",
      "conv1.bias torch.Size([64])\n",
      "conv2.weight torch.Size([128, 64, 5, 5])\n",
      "conv2.bias torch.Size([128])\n",
      "fc1.weight torch.Size([256, 6272])\n",
      "fc1.bias torch.Size([256])\n",
      "fc_final.weight torch.Size([10, 256])\n",
      "fc_final.bias torch.Size([10])\n",
      "tot_pars 1815050\n"
     ]
    },
    {
     "data": {
      "application/vnd.jupyter.widget-view+json": {
       "model_id": "99768b1875504308b779751389e3189f",
       "version_major": 2,
       "version_minor": 0
      },
      "text/plain": [
       "  0%|          | 0/60 [00:00<?, ?it/s]"
      ]
     },
     "metadata": {},
     "output_type": "display_data"
    },
    {
     "name": "stdout",
     "output_type": "stream",
     "text": [
      "\n",
      "Training set epoch 0: Avg. loss: 0.0004, Accuracy: 51786/60000 (86.31%)\n",
      "\n",
      "\n",
      "Validation set: Avg. loss: 0.0001, Accuracy: 9668/10000 (96.68%)\n",
      "\n"
     ]
    },
    {
     "data": {
      "application/vnd.jupyter.widget-view+json": {
       "model_id": "0d1c82dc11b64ea09e1229a02d9b82b7",
       "version_major": 2,
       "version_minor": 0
      },
      "text/plain": [
       "  0%|          | 0/60 [00:00<?, ?it/s]"
      ]
     },
     "metadata": {},
     "output_type": "display_data"
    },
    {
     "name": "stdout",
     "output_type": "stream",
     "text": [
      "\n",
      "Training set epoch 1: Avg. loss: 0.0001, Accuracy: 58584/60000 (97.64%)\n",
      "\n",
      "\n",
      "Validation set: Avg. loss: 0.0001, Accuracy: 9813/10000 (98.13%)\n",
      "\n"
     ]
    },
    {
     "data": {
      "application/vnd.jupyter.widget-view+json": {
       "model_id": "4ba82a5a334741b888e74610f88c34da",
       "version_major": 2,
       "version_minor": 0
      },
      "text/plain": [
       "  0%|          | 0/60 [00:00<?, ?it/s]"
      ]
     },
     "metadata": {},
     "output_type": "display_data"
    },
    {
     "name": "stdout",
     "output_type": "stream",
     "text": [
      "\n",
      "Training set epoch 2: Avg. loss: 0.0000, Accuracy: 59130/60000 (98.55%)\n",
      "\n",
      "\n",
      "Validation set: Avg. loss: 0.0000, Accuracy: 9863/10000 (98.63%)\n",
      "\n"
     ]
    },
    {
     "data": {
      "application/vnd.jupyter.widget-view+json": {
       "model_id": "0aa6722ab64041a897484c42c461cad5",
       "version_major": 2,
       "version_minor": 0
      },
      "text/plain": [
       "  0%|          | 0/60 [00:00<?, ?it/s]"
      ]
     },
     "metadata": {},
     "output_type": "display_data"
    },
    {
     "name": "stdout",
     "output_type": "stream",
     "text": [
      "\n",
      "Training set epoch 3: Avg. loss: 0.0000, Accuracy: 59344/60000 (98.91%)\n",
      "\n",
      "\n",
      "Validation set: Avg. loss: 0.0000, Accuracy: 9870/10000 (98.70%)\n",
      "\n"
     ]
    },
    {
     "data": {
      "application/vnd.jupyter.widget-view+json": {
       "model_id": "0964fa759ccc42f9879887d631b8b809",
       "version_major": 2,
       "version_minor": 0
      },
      "text/plain": [
       "  0%|          | 0/60 [00:00<?, ?it/s]"
      ]
     },
     "metadata": {},
     "output_type": "display_data"
    },
    {
     "name": "stdout",
     "output_type": "stream",
     "text": [
      "\n",
      "Training set epoch 4: Avg. loss: 0.0000, Accuracy: 59454/60000 (99.09%)\n",
      "\n",
      "\n",
      "Validation set: Avg. loss: 0.0000, Accuracy: 9889/10000 (98.89%)\n",
      "\n"
     ]
    },
    {
     "data": {
      "application/vnd.jupyter.widget-view+json": {
       "model_id": "c366e678da744807b8a88a5049cad758",
       "version_major": 2,
       "version_minor": 0
      },
      "text/plain": [
       "  0%|          | 0/60 [00:00<?, ?it/s]"
      ]
     },
     "metadata": {},
     "output_type": "display_data"
    },
    {
     "name": "stdout",
     "output_type": "stream",
     "text": [
      "\n",
      "Training set epoch 5: Avg. loss: 0.0000, Accuracy: 59569/60000 (99.28%)\n",
      "\n",
      "\n",
      "Validation set: Avg. loss: 0.0000, Accuracy: 9885/10000 (98.85%)\n",
      "\n"
     ]
    },
    {
     "data": {
      "application/vnd.jupyter.widget-view+json": {
       "model_id": "20d7a4a7f8e14d889230933f88075f07",
       "version_major": 2,
       "version_minor": 0
      },
      "text/plain": [
       "  0%|          | 0/60 [00:00<?, ?it/s]"
      ]
     },
     "metadata": {},
     "output_type": "display_data"
    },
    {
     "name": "stdout",
     "output_type": "stream",
     "text": [
      "\n",
      "Training set epoch 6: Avg. loss: 0.0000, Accuracy: 59627/60000 (99.38%)\n",
      "\n",
      "\n",
      "Validation set: Avg. loss: 0.0000, Accuracy: 9899/10000 (98.99%)\n",
      "\n"
     ]
    },
    {
     "data": {
      "application/vnd.jupyter.widget-view+json": {
       "model_id": "7ae88dc4e790413ba7ba04c1f3757106",
       "version_major": 2,
       "version_minor": 0
      },
      "text/plain": [
       "  0%|          | 0/60 [00:00<?, ?it/s]"
      ]
     },
     "metadata": {},
     "output_type": "display_data"
    },
    {
     "name": "stdout",
     "output_type": "stream",
     "text": [
      "\n",
      "Training set epoch 7: Avg. loss: 0.0000, Accuracy: 59674/60000 (99.46%)\n",
      "\n",
      "\n",
      "Validation set: Avg. loss: 0.0000, Accuracy: 9911/10000 (99.11%)\n",
      "\n"
     ]
    },
    {
     "data": {
      "application/vnd.jupyter.widget-view+json": {
       "model_id": "fbb61458ab144d0c92e5eb7969788aa8",
       "version_major": 2,
       "version_minor": 0
      },
      "text/plain": [
       "  0%|          | 0/60 [00:00<?, ?it/s]"
      ]
     },
     "metadata": {},
     "output_type": "display_data"
    },
    {
     "name": "stdout",
     "output_type": "stream",
     "text": [
      "\n",
      "Training set epoch 8: Avg. loss: 0.0000, Accuracy: 59714/60000 (99.52%)\n",
      "\n",
      "\n",
      "Validation set: Avg. loss: 0.0000, Accuracy: 9909/10000 (99.09%)\n",
      "\n"
     ]
    },
    {
     "data": {
      "application/vnd.jupyter.widget-view+json": {
       "model_id": "b336dbe25b824915bd418cd931fcfc54",
       "version_major": 2,
       "version_minor": 0
      },
      "text/plain": [
       "  0%|          | 0/60 [00:00<?, ?it/s]"
      ]
     },
     "metadata": {},
     "output_type": "display_data"
    },
    {
     "name": "stdout",
     "output_type": "stream",
     "text": [
      "\n",
      "Training set epoch 9: Avg. loss: 0.0000, Accuracy: 59766/60000 (99.61%)\n",
      "\n",
      "\n",
      "Validation set: Avg. loss: 0.0000, Accuracy: 9904/10000 (99.04%)\n",
      "\n"
     ]
    },
    {
     "data": {
      "image/png": "[encoded data removed]",
      "text/plain": [
       "<Figure size 432x288 with 1 Axes>"
      ]
     },
     "metadata": {
      "needs_background": "light"
     },
     "output_type": "display_data"
    }
   ],
   "source": [
    "# use GPU when possible\n",
    "pars.device = device\n",
    "pars.kernel_size=[5,5]\n",
    "pars.numtrain = 60000\n",
    "train,val,test=get_data(data_set=pars.data_set)\n",
    "train_data, train_labels = train\n",
    "val_data, val_labels = val\n",
    "combined_data = np.concatenate((train_data, val_data), axis=0)\n",
    "combined_labels = np.concatenate((train_labels, val_labels), axis=0)\n",
    "train = (combined_data, combined_labels)\n",
    "pars.inp_dim=train[0][0].shape\n",
    "# Initialize the network\n",
    "net_best = MNIST_Net_double(pars).to(pars.device)\n",
    "# Post it to the gpu if its there.\n",
    "net_best.to(pars.device)\n",
    "\n",
    "\n",
    "train=(train[0][0:pars.numtrain],train[1][0:pars.numtrain])\n",
    "\n",
    "train_losses, train_accuracies, test_losses, test_accuracies = [], [], [], []\n",
    "for i in range(pars.num_epochs):\n",
    "    # Run one epoch of training\n",
    "    train_loss, train_accuracy = run_epoch(net_best,i,train, pars, num=pars.numtrain, ttype=\"train\")\n",
    "    # Test on validation set.\n",
    "    test_loss, test_accuracy = net_test(net_best,test,pars)\n",
    "    train_losses.append(train_loss)\n",
    "    train_accuracies.append(train_accuracy)\n",
    "    test_losses.append(test_loss)\n",
    "    test_accuracies.append(test_accuracy)\n",
    "\n",
    "\n",
    "# Save the model to a file\n",
    "if not os.path.isdir(os.path.join(predir,'tmp')):\n",
    "    os.mkdir(os.path.join(predir,'tmp'))\n",
    "torch.save(net_best.state_dict(), os.path.join(predir,'tmp',pars.model_name))\n",
    "\n",
    "epochs = np.arange(1, pars.num_epochs + 1)\n",
    "plt.figure()\n",
    "plt.plot(epochs, 100 - np.array(train_accuracies), label=\"Training Error\")\n",
    "plt.plot(epochs, 100 - np.array(test_accuracies), label=\"Testing Error\")\n",
    "plt.xlabel(\"Epoch\")\n",
    "plt.ylabel(\"Error Rate (%)\")\n",
    "plt.legend()\n",
    "plt.title(\"Error Rate vs Epoch\")\n",
    "plt.show()"
   ]
  },
  {
   "cell_type": "markdown",
   "metadata": {},
   "source": [
    "## 1.c"
   ]
  },
  {
   "cell_type": "code",
   "execution_count": 37,
   "metadata": {},
   "outputs": [
    {
     "name": "stdout",
     "output_type": "stream",
     "text": [
      "Shift size:0\n"
     ]
    },
    {
     "data": {
      "image/png": "[encoded data removed]",
      "text/plain": [
       "<Figure size 432x288 with 20 Axes>"
      ]
     },
     "metadata": {
      "needs_background": "light"
     },
     "output_type": "display_data"
    },
    {
     "name": "stdout",
     "output_type": "stream",
     "text": [
      "(10000, 1, 28, 28)\n",
      "\n",
      "Test set: Avg. loss: 0.0000, Accuracy: 9971/10000 (99.71%)\n",
      "\n",
      "Shift size:2\n"
     ]
    },
    {
     "data": {
      "image/png": "[encoded data removed]",
      "text/plain": [
       "<Figure size 432x288 with 20 Axes>"
      ]
     },
     "metadata": {
      "needs_background": "light"
     },
     "output_type": "display_data"
    },
    {
     "name": "stdout",
     "output_type": "stream",
     "text": [
      "(10000, 1, 28, 28)\n",
      "\n",
      "Test set: Avg. loss: 0.0000, Accuracy: 9971/10000 (99.71%)\n",
      "\n",
      "Shift size:4\n"
     ]
    },
    {
     "data": {
      "image/png": "[encoded data removed]",
      "text/plain": [
       "<Figure size 432x288 with 20 Axes>"
      ]
     },
     "metadata": {
      "needs_background": "light"
     },
     "output_type": "display_data"
    },
    {
     "name": "stdout",
     "output_type": "stream",
     "text": [
      "(10000, 1, 28, 28)\n",
      "\n",
      "Test set: Avg. loss: 0.0000, Accuracy: 9901/10000 (99.01%)\n",
      "\n",
      "Shift size:6\n"
     ]
    },
    {
     "data": {
      "image/png": "[encoded data removed]",
      "text/plain": [
       "<Figure size 432x288 with 20 Axes>"
      ]
     },
     "metadata": {
      "needs_background": "light"
     },
     "output_type": "display_data"
    },
    {
     "name": "stdout",
     "output_type": "stream",
     "text": [
      "(10000, 1, 28, 28)\n",
      "\n",
      "Test set: Avg. loss: 0.0002, Accuracy: 9624/10000 (96.24%)\n",
      "\n",
      "Shift size:8\n"
     ]
    },
    {
     "data": {
      "image/png": "[encoded data removed]",
      "text/plain": [
       "<Figure size 432x288 with 20 Axes>"
      ]
     },
     "metadata": {
      "needs_background": "light"
     },
     "output_type": "display_data"
    },
    {
     "name": "stdout",
     "output_type": "stream",
     "text": [
      "(10000, 1, 28, 28)\n",
      "\n",
      "Test set: Avg. loss: 0.0006, Accuracy: 8788/10000 (87.88%)\n",
      "\n",
      "Shift size:10\n"
     ]
    },
    {
     "data": {
      "image/png": "[encoded data removed]",
      "text/plain": [
       "<Figure size 432x288 with 20 Axes>"
      ]
     },
     "metadata": {
      "needs_background": "light"
     },
     "output_type": "display_data"
    },
    {
     "name": "stdout",
     "output_type": "stream",
     "text": [
      "(10000, 1, 28, 28)\n",
      "\n",
      "Test set: Avg. loss: 0.0017, Accuracy: 7492/10000 (74.92%)\n",
      "\n",
      "Shift size:12\n"
     ]
    },
    {
     "data": {
      "image/png": "[encoded data removed]",
      "text/plain": [
       "<Figure size 432x288 with 20 Axes>"
      ]
     },
     "metadata": {
      "needs_background": "light"
     },
     "output_type": "display_data"
    },
    {
     "name": "stdout",
     "output_type": "stream",
     "text": [
      "(10000, 1, 28, 28)\n",
      "\n",
      "Test set: Avg. loss: 0.0031, Accuracy: 6232/10000 (62.32%)\n",
      "\n",
      "Shift size:14\n"
     ]
    },
    {
     "data": {
      "image/png": "[encoded data removed]",
      "text/plain": [
       "<Figure size 432x288 with 20 Axes>"
      ]
     },
     "metadata": {
      "needs_background": "light"
     },
     "output_type": "display_data"
    },
    {
     "name": "stdout",
     "output_type": "stream",
     "text": [
      "(10000, 1, 28, 28)\n",
      "\n",
      "Test set: Avg. loss: 0.0047, Accuracy: 5076/10000 (50.76%)\n",
      "\n",
      "Shift size:16\n"
     ]
    },
    {
     "data": {
      "image/png": "[encoded data removed]",
      "text/plain": [
       "<Figure size 432x288 with 20 Axes>"
      ]
     },
     "metadata": {
      "needs_background": "light"
     },
     "output_type": "display_data"
    },
    {
     "name": "stdout",
     "output_type": "stream",
     "text": [
      "(10000, 1, 28, 28)\n",
      "\n",
      "Test set: Avg. loss: 0.0063, Accuracy: 4139/10000 (41.39%)\n",
      "\n"
     ]
    },
    {
     "data": {
      "image/png": "[encoded data removed]",
      "text/plain": [
       "<Figure size 432x288 with 1 Axes>"
      ]
     },
     "metadata": {
      "needs_background": "light"
     },
     "output_type": "display_data"
    }
   ],
   "source": [
    "shift_values = np.arange(0, 17, 2)\n",
    "classification_rates = []\n",
    "\n",
    "for shift in shift_values:\n",
    "    print(f\"Shift size:{shift}\")\n",
    "    shifted_test_set = get_mnist_trans(test[0], shift)\n",
    "    newtest = (shifted_test_set,test[1])\n",
    "    _, classification_rate = net_test(net, newtest, pars, ttype=\"test\")\n",
    "    classification_rates.append(classification_rate)\n",
    "\n",
    "plt.plot(shift_values, classification_rates)\n",
    "plt.xlabel(\"Shift\")\n",
    "plt.ylabel(\"Classification Rate (%)\")\n",
    "plt.ylim(0,100)\n",
    "plt.title(\"Classification Rate vs Shift\")\n",
    "plt.show()"
   ]
  },
  {
   "cell_type": "markdown",
   "metadata": {},
   "source": [
    "To improve the network's performance on the transformed test set, you can try the following modifications:\n",
    "\n",
    "1.Increase the number of convolutional layers and reduce the number of fully connected layers, which may help the network learn more spatially invariant features.\n",
    "\n",
    "2.Add data augmentation during training, such as random translations, to increase the network's robustness to small shifts."
   ]
  },
  {
   "cell_type": "code",
   "execution_count": 38,
   "metadata": {},
   "outputs": [
    {
     "name": "stdout",
     "output_type": "stream",
     "text": [
      "(70000, 784)\n"
     ]
    },
    {
     "data": {
      "image/png": "[encoded data removed]",
      "text/plain": [
       "<Figure size 432x288 with 20 Axes>"
      ]
     },
     "metadata": {
      "needs_background": "light"
     },
     "output_type": "display_data"
    },
    {
     "name": "stdout",
     "output_type": "stream",
     "text": [
      "(55000, 1, 28, 28)\n"
     ]
    },
    {
     "data": {
      "image/png": "[encoded data removed]",
      "text/plain": [
       "<Figure size 432x288 with 20 Axes>"
      ]
     },
     "metadata": {
      "needs_background": "light"
     },
     "output_type": "display_data"
    },
    {
     "name": "stdout",
     "output_type": "stream",
     "text": [
      "(5000, 1, 28, 28)\n"
     ]
    },
    {
     "data": {
      "image/png": "[encoded data removed]",
      "text/plain": [
       "<Figure size 432x288 with 20 Axes>"
      ]
     },
     "metadata": {
      "needs_background": "light"
     },
     "output_type": "display_data"
    },
    {
     "name": "stdout",
     "output_type": "stream",
     "text": [
      "(10000, 1, 28, 28)\n"
     ]
    },
    {
     "data": {
      "application/vnd.jupyter.widget-view+json": {
       "model_id": "ee938c28c6a940f4b7e4704f305570fd",
       "version_major": 2,
       "version_minor": 0
      },
      "text/plain": [
       "  0%|          | 0/55 [00:00<?, ?it/s]"
      ]
     },
     "metadata": {},
     "output_type": "display_data"
    },
    {
     "name": "stdout",
     "output_type": "stream",
     "text": [
      "\n",
      "Training set epoch 0: Avg. loss: 0.0011, Accuracy: 34667/55000 (63.03%)\n",
      "\n",
      "\n",
      "Validation set: Avg. loss: 0.0003, Accuracy: 4481/5000 (89.62%)\n",
      "\n"
     ]
    },
    {
     "data": {
      "application/vnd.jupyter.widget-view+json": {
       "model_id": "63bceb20e1eb470989612159a55490f2",
       "version_major": 2,
       "version_minor": 0
      },
      "text/plain": [
       "  0%|          | 0/55 [00:00<?, ?it/s]"
      ]
     },
     "metadata": {},
     "output_type": "display_data"
    },
    {
     "name": "stdout",
     "output_type": "stream",
     "text": [
      "\n",
      "Training set epoch 1: Avg. loss: 0.0002, Accuracy: 50927/55000 (92.59%)\n",
      "\n",
      "\n",
      "Validation set: Avg. loss: 0.0002, Accuracy: 4711/5000 (94.22%)\n",
      "\n"
     ]
    },
    {
     "data": {
      "application/vnd.jupyter.widget-view+json": {
       "model_id": "93cd8b735d224113a2b8bd9c396b58a9",
       "version_major": 2,
       "version_minor": 0
      },
      "text/plain": [
       "  0%|          | 0/55 [00:00<?, ?it/s]"
      ]
     },
     "metadata": {},
     "output_type": "display_data"
    },
    {
     "name": "stdout",
     "output_type": "stream",
     "text": [
      "\n",
      "Training set epoch 2: Avg. loss: 0.0001, Accuracy: 52571/55000 (95.58%)\n",
      "\n",
      "\n",
      "Validation set: Avg. loss: 0.0001, Accuracy: 4798/5000 (95.96%)\n",
      "\n"
     ]
    },
    {
     "data": {
      "application/vnd.jupyter.widget-view+json": {
       "model_id": "2b6d052d949f4222a701b717098581a4",
       "version_major": 2,
       "version_minor": 0
      },
      "text/plain": [
       "  0%|          | 0/55 [00:00<?, ?it/s]"
      ]
     },
     "metadata": {},
     "output_type": "display_data"
    },
    {
     "name": "stdout",
     "output_type": "stream",
     "text": [
      "\n",
      "Training set epoch 3: Avg. loss: 0.0001, Accuracy: 53090/55000 (96.53%)\n",
      "\n",
      "\n",
      "Validation set: Avg. loss: 0.0001, Accuracy: 4824/5000 (96.48%)\n",
      "\n"
     ]
    },
    {
     "data": {
      "application/vnd.jupyter.widget-view+json": {
       "model_id": "98718cc2eec64e818b97021c9551dc40",
       "version_major": 2,
       "version_minor": 0
      },
      "text/plain": [
       "  0%|          | 0/55 [00:00<?, ?it/s]"
      ]
     },
     "metadata": {},
     "output_type": "display_data"
    },
    {
     "name": "stdout",
     "output_type": "stream",
     "text": [
      "\n",
      "Training set epoch 4: Avg. loss: 0.0001, Accuracy: 53441/55000 (97.17%)\n",
      "\n",
      "\n",
      "Validation set: Avg. loss: 0.0001, Accuracy: 4848/5000 (96.96%)\n",
      "\n"
     ]
    },
    {
     "data": {
      "application/vnd.jupyter.widget-view+json": {
       "model_id": "6af91a9298414046bb21ece3aad64d2d",
       "version_major": 2,
       "version_minor": 0
      },
      "text/plain": [
       "  0%|          | 0/55 [00:00<?, ?it/s]"
      ]
     },
     "metadata": {},
     "output_type": "display_data"
    },
    {
     "name": "stdout",
     "output_type": "stream",
     "text": [
      "\n",
      "Training set epoch 5: Avg. loss: 0.0001, Accuracy: 53667/55000 (97.58%)\n",
      "\n",
      "\n",
      "Validation set: Avg. loss: 0.0001, Accuracy: 4873/5000 (97.46%)\n",
      "\n"
     ]
    },
    {
     "data": {
      "application/vnd.jupyter.widget-view+json": {
       "model_id": "df5fc5d49d9646078c83658c9d7abe29",
       "version_major": 2,
       "version_minor": 0
      },
      "text/plain": [
       "  0%|          | 0/55 [00:00<?, ?it/s]"
      ]
     },
     "metadata": {},
     "output_type": "display_data"
    },
    {
     "name": "stdout",
     "output_type": "stream",
     "text": [
      "\n",
      "Training set epoch 6: Avg. loss: 0.0001, Accuracy: 53912/55000 (98.02%)\n",
      "\n",
      "\n",
      "Validation set: Avg. loss: 0.0001, Accuracy: 4886/5000 (97.72%)\n",
      "\n"
     ]
    },
    {
     "data": {
      "application/vnd.jupyter.widget-view+json": {
       "model_id": "02b609ae67b14592aa869f76e969831c",
       "version_major": 2,
       "version_minor": 0
      },
      "text/plain": [
       "  0%|          | 0/55 [00:00<?, ?it/s]"
      ]
     },
     "metadata": {},
     "output_type": "display_data"
    },
    {
     "name": "stdout",
     "output_type": "stream",
     "text": [
      "\n",
      "Training set epoch 7: Avg. loss: 0.0001, Accuracy: 54130/55000 (98.42%)\n",
      "\n",
      "\n",
      "Validation set: Avg. loss: 0.0001, Accuracy: 4870/5000 (97.40%)\n",
      "\n"
     ]
    },
    {
     "data": {
      "application/vnd.jupyter.widget-view+json": {
       "model_id": "9dfff61d200e44b99edbc7b50361270a",
       "version_major": 2,
       "version_minor": 0
      },
      "text/plain": [
       "  0%|          | 0/55 [00:00<?, ?it/s]"
      ]
     },
     "metadata": {},
     "output_type": "display_data"
    },
    {
     "name": "stdout",
     "output_type": "stream",
     "text": [
      "\n",
      "Training set epoch 8: Avg. loss: 0.0000, Accuracy: 54125/55000 (98.41%)\n",
      "\n",
      "\n",
      "Validation set: Avg. loss: 0.0001, Accuracy: 4889/5000 (97.78%)\n",
      "\n"
     ]
    },
    {
     "data": {
      "application/vnd.jupyter.widget-view+json": {
       "model_id": "029d6133e1364cba9cee4e11b71de471",
       "version_major": 2,
       "version_minor": 0
      },
      "text/plain": [
       "  0%|          | 0/55 [00:00<?, ?it/s]"
      ]
     },
     "metadata": {},
     "output_type": "display_data"
    },
    {
     "name": "stdout",
     "output_type": "stream",
     "text": [
      "\n",
      "Training set epoch 9: Avg. loss: 0.0000, Accuracy: 54308/55000 (98.74%)\n",
      "\n",
      "\n",
      "Validation set: Avg. loss: 0.0001, Accuracy: 4886/5000 (97.72%)\n",
      "\n",
      "Shift size:0\n"
     ]
    },
    {
     "data": {
      "image/png": "[encoded data removed]",
      "text/plain": [
       "<Figure size 432x288 with 20 Axes>"
      ]
     },
     "metadata": {
      "needs_background": "light"
     },
     "output_type": "display_data"
    },
    {
     "name": "stdout",
     "output_type": "stream",
     "text": [
      "(10000, 1, 28, 28)\n",
      "\n",
      "Test set: Avg. loss: 0.0001, Accuracy: 9788/10000 (97.88%)\n",
      "\n",
      "Shift size:2\n"
     ]
    },
    {
     "data": {
      "image/png": "[encoded data removed]",
      "text/plain": [
       "<Figure size 432x288 with 20 Axes>"
      ]
     },
     "metadata": {
      "needs_background": "light"
     },
     "output_type": "display_data"
    },
    {
     "name": "stdout",
     "output_type": "stream",
     "text": [
      "(10000, 1, 28, 28)\n",
      "\n",
      "Test set: Avg. loss: 0.0001, Accuracy: 9788/10000 (97.88%)\n",
      "\n",
      "Shift size:4\n"
     ]
    },
    {
     "data": {
      "image/png": "[encoded data removed]",
      "text/plain": [
       "<Figure size 432x288 with 20 Axes>"
      ]
     },
     "metadata": {
      "needs_background": "light"
     },
     "output_type": "display_data"
    },
    {
     "name": "stdout",
     "output_type": "stream",
     "text": [
      "(10000, 1, 28, 28)\n",
      "\n",
      "Test set: Avg. loss: 0.0001, Accuracy: 9764/10000 (97.64%)\n",
      "\n",
      "Shift size:6\n"
     ]
    },
    {
     "data": {
      "image/png": "[encoded data removed]",
      "text/plain": [
       "<Figure size 432x288 with 20 Axes>"
      ]
     },
     "metadata": {
      "needs_background": "light"
     },
     "output_type": "display_data"
    },
    {
     "name": "stdout",
     "output_type": "stream",
     "text": [
      "(10000, 1, 28, 28)\n",
      "\n",
      "Test set: Avg. loss: 0.0001, Accuracy: 9713/10000 (97.13%)\n",
      "\n",
      "Shift size:8\n"
     ]
    },
    {
     "data": {
      "image/png": "[encoded data removed]",
      "text/plain": [
       "<Figure size 432x288 with 20 Axes>"
      ]
     },
     "metadata": {
      "needs_background": "light"
     },
     "output_type": "display_data"
    },
    {
     "name": "stdout",
     "output_type": "stream",
     "text": [
      "(10000, 1, 28, 28)\n",
      "\n",
      "Test set: Avg. loss: 0.0002, Accuracy: 9571/10000 (95.71%)\n",
      "\n",
      "Shift size:10\n"
     ]
    },
    {
     "data": {
      "image/png": "[encoded data removed]",
      "text/plain": [
       "<Figure size 432x288 with 20 Axes>"
      ]
     },
     "metadata": {
      "needs_background": "light"
     },
     "output_type": "display_data"
    },
    {
     "name": "stdout",
     "output_type": "stream",
     "text": [
      "(10000, 1, 28, 28)\n",
      "\n",
      "Test set: Avg. loss: 0.0003, Accuracy: 9359/10000 (93.59%)\n",
      "\n",
      "Shift size:12\n"
     ]
    },
    {
     "data": {
      "image/png": "[encoded data removed]",
      "text/plain": [
       "<Figure size 432x288 with 20 Axes>"
      ]
     },
     "metadata": {
      "needs_background": "light"
     },
     "output_type": "display_data"
    },
    {
     "name": "stdout",
     "output_type": "stream",
     "text": [
      "(10000, 1, 28, 28)\n",
      "\n",
      "Test set: Avg. loss: 0.0005, Accuracy: 8944/10000 (89.44%)\n",
      "\n",
      "Shift size:14\n"
     ]
    },
    {
     "data": {
      "image/png": "[encoded data removed]",
      "text/plain": [
       "<Figure size 432x288 with 20 Axes>"
      ]
     },
     "metadata": {
      "needs_background": "light"
     },
     "output_type": "display_data"
    },
    {
     "name": "stdout",
     "output_type": "stream",
     "text": [
      "(10000, 1, 28, 28)\n",
      "\n",
      "Test set: Avg. loss: 0.0008, Accuracy: 8443/10000 (84.43%)\n",
      "\n",
      "Shift size:16\n"
     ]
    },
    {
     "data": {
      "image/png": "[encoded data removed]",
      "text/plain": [
       "<Figure size 432x288 with 20 Axes>"
      ]
     },
     "metadata": {
      "needs_background": "light"
     },
     "output_type": "display_data"
    },
    {
     "name": "stdout",
     "output_type": "stream",
     "text": [
      "(10000, 1, 28, 28)\n",
      "\n",
      "Test set: Avg. loss: 0.0011, Accuracy: 7921/10000 (79.21%)\n",
      "\n"
     ]
    },
    {
     "data": {
      "image/png": "[encoded data removed]",
      "text/plain": [
       "<Figure size 432x288 with 1 Axes>"
      ]
     },
     "metadata": {
      "needs_background": "light"
     },
     "output_type": "display_data"
    }
   ],
   "source": [
    "class Improved_MNIST_Net(nn.Module):\n",
    "    def __init__(self, pars):\n",
    "        super(Improved_MNIST_Net, self).__init__()\n",
    "\n",
    "        ks = pars.kernel_size\n",
    "        ps = np.int32(pars.pool_size)\n",
    "        self.mid_layer = pars.mid_layer\n",
    "\n",
    "        self.conv1 = nn.Conv2d(1, 32, kernel_size=ks[0], padding=ks[0] // 2)\n",
    "        self.pool1 = nn.MaxPool2d(kernel_size=[ps], stride=2)\n",
    "        self.conv2 = nn.Conv2d(32, 64, kernel_size=ks[1], padding=ks[1] // 2)\n",
    "        self.pool2 = nn.MaxPool2d(kernel_size=2, stride=2)\n",
    "        self.conv3 = nn.Conv2d(64, 32, kernel_size=ks[2], padding=ks[2] // 2)\n",
    "        self.drop2 = nn.Dropout2d(pars.dropout)\n",
    "\n",
    "        self.first = True\n",
    "        if self.first:\n",
    "            self.forward(torch.zeros((1,) + pars.inp_dim))\n",
    "\n",
    "        if pars.minimizer == 'Adam':\n",
    "            self.optimizer = torch.optim.Adam(self.parameters(), lr=pars.step_size)\n",
    "        else:\n",
    "            self.optimizer = torch.optim.SGD(self.parameters(), lr=pars.step_size)\n",
    "\n",
    "        self.criterion = nn.CrossEntropyLoss()\n",
    "\n",
    "    def forward(self, x):\n",
    "        x = F.relu(self.pool1(self.conv1(x)))\n",
    "        x = F.relu(self.pool2(self.conv2(x)))\n",
    "        x = self.drop2(F.relu(self.conv3(x)))\n",
    "\n",
    "        if self.first:\n",
    "            self.first = False\n",
    "            self.inp = x.shape[1] * x.shape[2] * x.shape[3]\n",
    "            self.fc1 = nn.Linear(self.inp, self.mid_layer)\n",
    "            self.fc_final = nn.Linear(self.mid_layer, 10)\n",
    "\n",
    "        x = x.reshape(-1, self.inp)\n",
    "        x = F.relu(self.fc1(x))\n",
    "        x = self.fc_final(x)\n",
    "        return x\n",
    "    \n",
    "    # Run the network on the data, compute the loss, compute the predictions and compute classification rate/\n",
    "    def get_acc_and_loss(self, data, targ):\n",
    "        output = self.forward(data)\n",
    "        loss = self.criterion(output, targ)\n",
    "        pred = torch.max(output,1)[1]\n",
    "        correct = torch.eq(pred,targ).sum()\n",
    "        \n",
    "        return loss,correct\n",
    "    \n",
    "    # Compute classification and loss and then do a gradient step on the loss.\n",
    "    def run_grad(self,data,targ):\n",
    "    \n",
    "        loss, correct=self.get_acc_and_loss(data,targ)\n",
    "        self.optimizer.zero_grad()\n",
    "        loss.backward()\n",
    "        self.optimizer.step()\n",
    "        \n",
    "        return loss, correct\n",
    "    \n",
    "        \n",
    "# use GPU when possible\n",
    "pars.device = device\n",
    "pars.kernel_size=[5,5,5]\n",
    "pars.numtrain = 55000\n",
    "train,val,test=get_data(data_set=pars.data_set)\n",
    "train = (get_mnist_trans(train[0], 10), train[1])\n",
    "val = (get_mnist_trans(val[0], 10), val[1])\n",
    "test = (get_mnist_trans(test[0], 10), test[1])\n",
    "pars.inp_dim=train[0][0].shape\n",
    "# Initialize the network\n",
    "net_improved = Improved_MNIST_Net(pars).to(pars.device)\n",
    "# Post it to the gpu if its there.\n",
    "net_improved.to(pars.device)\n",
    "\n",
    "\n",
    "train=(train[0][0:pars.numtrain],train[1][0:pars.numtrain])\n",
    "\n",
    "train_losses, train_accuracies, val_losses, val_accuracies = [], [], [], []\n",
    "for i in range(pars.num_epochs):\n",
    "    # Run one epoch of training\n",
    "    train_loss, train_accuracy = run_epoch(net_improved,i,train, pars, num=pars.numtrain, ttype=\"train\")\n",
    "    # Test on validation set.\n",
    "    val_loss, val_accuracy = net_test(net_improved,val,pars)\n",
    "    train_losses.append(train_loss)\n",
    "    train_accuracies.append(train_accuracy)\n",
    "    val_losses.append(val_loss)\n",
    "    val_accuracies.append(val_accuracy)\n",
    "\n",
    "\n",
    "\n",
    "shift_values = np.arange(0, 17, 2)\n",
    "classification_rates = []\n",
    "\n",
    "for shift in shift_values:\n",
    "    print(f\"Shift size:{shift}\")\n",
    "    shifted_test_set = get_mnist_trans(test[0], shift)\n",
    "    newtest = (shifted_test_set,test[1])\n",
    "    _, classification_rate = net_test(net_improved, newtest, pars, ttype=\"test\")\n",
    "    classification_rates.append(classification_rate)\n",
    "\n",
    "plt.plot(shift_values, classification_rates)\n",
    "plt.xlabel(\"Shift\")\n",
    "plt.ylabel(\"Classification Rate (%)\")\n",
    "plt.ylim(0,100)\n",
    "plt.title(\"Classification Rate vs Shift\")\n",
    "plt.show()"
   ]
  },
  {
   "cell_type": "markdown",
   "metadata": {},
   "source": [
    "We can see that after the improvement, the model is more robust when encountering pixel shift."
   ]
  },
  {
   "cell_type": "markdown",
   "metadata": {},
   "source": [
    "## 2.a"
   ]
  },
  {
   "cell_type": "code",
   "execution_count": 39,
   "metadata": {},
   "outputs": [
    {
     "data": {
      "image/png": "[encoded data removed]",
      "text/plain": [
       "<Figure size 1080x216 with 10 Axes>"
      ]
     },
     "metadata": {
      "needs_background": "light"
     },
     "output_type": "display_data"
    }
   ],
   "source": [
    "pars.data_set=\"cifar\"\n",
    "train,val,test=get_data(data_set=pars.data_set)\n",
    "def display_images(images, labels):\n",
    "    num_images = labels.shape[0]\n",
    "    fig, axes = plt.subplots(1, num_images, figsize=(15, 3))\n",
    "    for i in range(num_images):\n",
    "        axes[i].imshow(np.transpose(images[i], (1, 2, 0)))\n",
    "        axes[i].set_title(labels[i])\n",
    "        axes[i].axis('off')\n",
    "    plt.show()\n",
    "\n",
    "# Display some of the images\n",
    "display_images(train[0][:10], train[1][:10])"
   ]
  },
  {
   "cell_type": "markdown",
   "metadata": {},
   "source": [
    "## 2.b"
   ]
  },
  {
   "cell_type": "code",
   "execution_count": 51,
   "metadata": {},
   "outputs": [
    {
     "name": "stdout",
     "output_type": "stream",
     "text": [
      "conv1 torch.Size([1, 32, 16, 16])\n",
      "conv2 torch.Size([1, 64, 8, 8])\n",
      "input dimension to fc1 4096\n",
      "conv1.weight torch.Size([32, 3, 5, 5])\n",
      "conv1.bias torch.Size([32])\n",
      "conv2.weight torch.Size([64, 32, 5, 5])\n",
      "conv2.bias torch.Size([64])\n",
      "fc1.weight torch.Size([256, 4096])\n",
      "fc1.bias torch.Size([256])\n",
      "fc_final.weight torch.Size([10, 256])\n",
      "fc_final.bias torch.Size([10])\n",
      "tot_pars 1105098\n"
     ]
    },
    {
     "data": {
      "application/vnd.jupyter.widget-view+json": {
       "model_id": "eb5263c2c4e24e41bc1ee39beb8e05dd",
       "version_major": 2,
       "version_minor": 0
      },
      "text/plain": [
       "  0%|          | 0/45 [00:00<?, ?it/s]"
      ]
     },
     "metadata": {},
     "output_type": "display_data"
    },
    {
     "name": "stdout",
     "output_type": "stream",
     "text": [
      "\n",
      "Training set epoch 0: Avg. loss: 0.0019, Accuracy: 14542/45000 (32.32%)\n",
      "\n",
      "\n",
      "Validation set: Avg. loss: 0.0016, Accuracy: 2131/5000 (42.62%)\n",
      "\n"
     ]
    },
    {
     "data": {
      "application/vnd.jupyter.widget-view+json": {
       "model_id": "3f27bae3b018478d8c188b886254f5bd",
       "version_major": 2,
       "version_minor": 0
      },
      "text/plain": [
       "  0%|          | 0/45 [00:00<?, ?it/s]"
      ]
     },
     "metadata": {},
     "output_type": "display_data"
    },
    {
     "name": "stdout",
     "output_type": "stream",
     "text": [
      "\n",
      "Training set epoch 1: Avg. loss: 0.0015, Accuracy: 20865/45000 (46.37%)\n",
      "\n",
      "\n",
      "Validation set: Avg. loss: 0.0014, Accuracy: 2514/5000 (50.28%)\n",
      "\n"
     ]
    },
    {
     "data": {
      "application/vnd.jupyter.widget-view+json": {
       "model_id": "3d3679dc092d4c8ea64737bd75c845e2",
       "version_major": 2,
       "version_minor": 0
      },
      "text/plain": [
       "  0%|          | 0/45 [00:00<?, ?it/s]"
      ]
     },
     "metadata": {},
     "output_type": "display_data"
    },
    {
     "name": "stdout",
     "output_type": "stream",
     "text": [
      "\n",
      "Training set epoch 2: Avg. loss: 0.0014, Accuracy: 23046/45000 (51.21%)\n",
      "\n",
      "\n",
      "Validation set: Avg. loss: 0.0013, Accuracy: 2694/5000 (53.88%)\n",
      "\n"
     ]
    },
    {
     "data": {
      "application/vnd.jupyter.widget-view+json": {
       "model_id": "40265b29bf4e4e249ca54ca20e032b92",
       "version_major": 2,
       "version_minor": 0
      },
      "text/plain": [
       "  0%|          | 0/45 [00:00<?, ?it/s]"
      ]
     },
     "metadata": {},
     "output_type": "display_data"
    },
    {
     "name": "stdout",
     "output_type": "stream",
     "text": [
      "\n",
      "Training set epoch 3: Avg. loss: 0.0013, Accuracy: 24788/45000 (55.08%)\n",
      "\n",
      "\n",
      "Validation set: Avg. loss: 0.0013, Accuracy: 2728/5000 (54.56%)\n",
      "\n"
     ]
    },
    {
     "data": {
      "application/vnd.jupyter.widget-view+json": {
       "model_id": "a0387238ef0f44ccbe2f53f94934658b",
       "version_major": 2,
       "version_minor": 0
      },
      "text/plain": [
       "  0%|          | 0/45 [00:00<?, ?it/s]"
      ]
     },
     "metadata": {},
     "output_type": "display_data"
    },
    {
     "name": "stdout",
     "output_type": "stream",
     "text": [
      "\n",
      "Training set epoch 4: Avg. loss: 0.0012, Accuracy: 25948/45000 (57.66%)\n",
      "\n",
      "\n",
      "Validation set: Avg. loss: 0.0012, Accuracy: 2894/5000 (57.88%)\n",
      "\n"
     ]
    },
    {
     "data": {
      "application/vnd.jupyter.widget-view+json": {
       "model_id": "280e47a73cb04f7ca58b78e165852c37",
       "version_major": 2,
       "version_minor": 0
      },
      "text/plain": [
       "  0%|          | 0/45 [00:00<?, ?it/s]"
      ]
     },
     "metadata": {},
     "output_type": "display_data"
    },
    {
     "name": "stdout",
     "output_type": "stream",
     "text": [
      "\n",
      "Training set epoch 5: Avg. loss: 0.0011, Accuracy: 26898/45000 (59.77%)\n",
      "\n",
      "\n",
      "Validation set: Avg. loss: 0.0011, Accuracy: 3085/5000 (61.70%)\n",
      "\n"
     ]
    },
    {
     "data": {
      "application/vnd.jupyter.widget-view+json": {
       "model_id": "7408bcb5bf5d4682bedb0b819c1b1b4b",
       "version_major": 2,
       "version_minor": 0
      },
      "text/plain": [
       "  0%|          | 0/45 [00:00<?, ?it/s]"
      ]
     },
     "metadata": {},
     "output_type": "display_data"
    },
    {
     "name": "stdout",
     "output_type": "stream",
     "text": [
      "\n",
      "Training set epoch 6: Avg. loss: 0.0011, Accuracy: 28076/45000 (62.39%)\n",
      "\n",
      "\n",
      "Validation set: Avg. loss: 0.0011, Accuracy: 3086/5000 (61.72%)\n",
      "\n"
     ]
    },
    {
     "data": {
      "application/vnd.jupyter.widget-view+json": {
       "model_id": "8b3f35784b244ea4b47e11db57067cdb",
       "version_major": 2,
       "version_minor": 0
      },
      "text/plain": [
       "  0%|          | 0/45 [00:00<?, ?it/s]"
      ]
     },
     "metadata": {},
     "output_type": "display_data"
    },
    {
     "name": "stdout",
     "output_type": "stream",
     "text": [
      "\n",
      "Training set epoch 7: Avg. loss: 0.0010, Accuracy: 28504/45000 (63.34%)\n",
      "\n",
      "\n",
      "Validation set: Avg. loss: 0.0010, Accuracy: 3219/5000 (64.38%)\n",
      "\n"
     ]
    },
    {
     "data": {
      "application/vnd.jupyter.widget-view+json": {
       "model_id": "8c081890ced0463c8622c7e615337d45",
       "version_major": 2,
       "version_minor": 0
      },
      "text/plain": [
       "  0%|          | 0/45 [00:00<?, ?it/s]"
      ]
     },
     "metadata": {},
     "output_type": "display_data"
    },
    {
     "name": "stdout",
     "output_type": "stream",
     "text": [
      "\n",
      "Training set epoch 8: Avg. loss: 0.0010, Accuracy: 29385/45000 (65.30%)\n",
      "\n",
      "\n",
      "Validation set: Avg. loss: 0.0010, Accuracy: 3261/5000 (65.22%)\n",
      "\n"
     ]
    },
    {
     "data": {
      "application/vnd.jupyter.widget-view+json": {
       "model_id": "90c6de1961064016bf6726928dd3326e",
       "version_major": 2,
       "version_minor": 0
      },
      "text/plain": [
       "  0%|          | 0/45 [00:00<?, ?it/s]"
      ]
     },
     "metadata": {},
     "output_type": "display_data"
    },
    {
     "name": "stdout",
     "output_type": "stream",
     "text": [
      "\n",
      "Training set epoch 9: Avg. loss: 0.0010, Accuracy: 29810/45000 (66.24%)\n",
      "\n",
      "\n",
      "Validation set: Avg. loss: 0.0010, Accuracy: 3311/5000 (66.22%)\n",
      "\n",
      "\n",
      "Test set: Avg. loss: 0.0010, Accuracy: 6444/10000 (64.44%)\n",
      "\n"
     ]
    },
    {
     "data": {
      "image/png": "[encoded data removed]",
      "text/plain": [
       "<Figure size 432x288 with 1 Axes>"
      ]
     },
     "metadata": {
      "needs_background": "light"
     },
     "output_type": "display_data"
    },
    {
     "data": {
      "image/png": "[encoded data removed]",
      "text/plain": [
       "<Figure size 1080x504 with 32 Axes>"
      ]
     },
     "metadata": {
      "needs_background": "light"
     },
     "output_type": "display_data"
    }
   ],
   "source": [
    "\n",
    "class CIFAR_Net(nn.Module):\n",
    "    def __init__(self,pars):\n",
    "        super(CIFAR_Net, self).__init__()\n",
    "        \n",
    "        ks=pars.kernel_size\n",
    "        ps=np.int32(pars.pool_size)\n",
    "        self.mid_layer=pars.mid_layer\n",
    "        # Two successive convolutional layers.\n",
    "        # Two pooling layers that come after convolutional layers.\n",
    "        # Two dropout layers.\n",
    "        self.conv1 = nn.Conv2d(3, 32, kernel_size=ks[0],padding=ks[0]//2)\n",
    "        self.pool1=nn.MaxPool2d(kernel_size=[ps],stride=2)\n",
    "        self.conv2 = nn.Conv2d(32, 64, kernel_size=ks[1],padding=ks[1]//2)\n",
    "        self.drop2 = nn.Dropout2d(pars.dropout)\n",
    "        self.pool2=nn.MaxPool2d(kernel_size=2,stride=2)\n",
    "        self.drop_final=nn.Dropout(pars.dropout)\n",
    "       \n",
    "               \n",
    "        \n",
    "        # Run the network one time on one dummy data point of the same \n",
    "        # dimension as the input images to get dimensions of fully connected \n",
    "        # layer that comes after second convolutional layers\n",
    "        self.first=True\n",
    "        if self.first:\n",
    "            self.forward(torch.zeros((1,)+pars.inp_dim))\n",
    "            \n",
    "        # Setup the optimizer type and send it the parameters of the model\n",
    "        if pars.minimizer == 'Adam':\n",
    "            self.optimizer = torch.optim.Adam(self.parameters(), lr = pars.step_size)\n",
    "        else:\n",
    "            self.optimizer = torch.optim.SGD(self.parameters(), lr = pars.step_size)\n",
    "         \n",
    "        self.criterion=nn.CrossEntropyLoss()\n",
    "        \n",
    "    def forward(self, x):\n",
    "        \n",
    "        # Apply relu to a pooled conv1 layer.\n",
    "        x = F.relu(self.pool1(self.conv1(x)))\n",
    "        if self.first:\n",
    "            print('conv1',x.shape)\n",
    "        # Apply relu to a pooled conv2 layer with a drop layer inbetween.\n",
    "        x = self.drop2(F.relu(self.pool2(self.conv2(x))))\n",
    "        if self.first:\n",
    "            print('conv2',x.shape)\n",
    "        \n",
    "        if self.first:\n",
    "            self.first=False\n",
    "            self.inp=x.shape[1]*x.shape[2]*x.shape[3]\n",
    "            # Compute dimension of output of x and setup a fully connected layer with that input dim \n",
    "            # pars.mid_layer output dim. Then setup final 10 node output layer.\n",
    "            print('input dimension to fc1',self.inp)\n",
    "            if self.mid_layer is not None:\n",
    "                self.fc1 = nn.Linear(self.inp, self.mid_layer)\n",
    "                self.fc_final = nn.Linear(self.mid_layer, 10)\n",
    "            else:\n",
    "                self.fc1=nn.Identity()\n",
    "                self.fc_final = nn.Linear(self.inp, 10)\n",
    "            # Print out all network parameter shapes and compute total:\n",
    "            tot_pars=0\n",
    "            for k,p in self.named_parameters():\n",
    "                tot_pars+=p.numel()\n",
    "                print(k,p.shape)\n",
    "            print('tot_pars',tot_pars)\n",
    "        x = x.reshape(-1, self.inp)\n",
    "        x = F.relu(self.fc1(x))\n",
    "        x = self.drop_final(x)\n",
    "        x = self.fc_final(x)\n",
    "        return x\n",
    "    \n",
    "    # Run the network on the data, compute the loss, compute the predictions and compute classification rate/\n",
    "    def get_acc_and_loss(self, data, targ):\n",
    "        output = self.forward(data)\n",
    "        loss = self.criterion(output, targ)\n",
    "        pred = torch.max(output,1)[1]\n",
    "        correct = torch.eq(pred,targ).sum()\n",
    "        \n",
    "        return loss,correct\n",
    "    \n",
    "    # Compute classification and loss and then do a gradient step on the loss.\n",
    "    def run_grad(self,data,targ):\n",
    "    \n",
    "        loss, correct=self.get_acc_and_loss(data,targ)\n",
    "        self.optimizer.zero_grad()\n",
    "        loss.backward()\n",
    "        self.optimizer.step()\n",
    "        \n",
    "        return loss, correct\n",
    "    \n",
    "               \n",
    "# use GPU when possible\n",
    "pars.device = device\n",
    "pars.kernel_size=[5,5]\n",
    "train,val,test=get_data(data_set=pars.data_set)\n",
    "pars.inp_dim=train[0][0].shape\n",
    "# Initialize the network\n",
    "net = CIFAR_Net(pars).to(pars.device)\n",
    "# Post it to the gpu if its there.\n",
    "net.to(pars.device)\n",
    "\n",
    "\n",
    "train=(train[0][0:pars.numtrain],train[1][0:pars.numtrain])\n",
    "\n",
    "train_losses, train_accuracies, val_losses, val_accuracies = [], [], [], []\n",
    "for i in range(pars.num_epochs):\n",
    "    # Run one epoch of training\n",
    "    train_loss, train_accuracy = run_epoch(net,i,train, pars, num=pars.numtrain, ttype=\"train\")\n",
    "    # Test on validation set.\n",
    "    val_loss, val_accuracy = net_test(net,val,pars)\n",
    "    train_losses.append(train_loss)\n",
    "    train_accuracies.append(train_accuracy)\n",
    "    val_losses.append(val_loss)\n",
    "    val_accuracies.append(val_accuracy)\n",
    "\n",
    "net_test(net,test,pars,ttype=\"test\")\n",
    "\n",
    "epochs = np.arange(1, pars.num_epochs + 1)\n",
    "plt.figure()\n",
    "plt.plot(epochs, 100 - np.array(train_accuracies), label=\"Training Error\")\n",
    "plt.plot(epochs, 100 - np.array(val_accuracies), label=\"Validation Error\")\n",
    "plt.xlabel(\"Epoch\")\n",
    "plt.ylabel(\"Error Rate (%)\")\n",
    "plt.legend()\n",
    "plt.title(\"Error Rate vs Epoch\")\n",
    "plt.show()\n",
    "\n",
    "# Plot the first layer filters\n",
    "filters = net.conv1.weight.detach().cpu().numpy()\n",
    "num_filters = filters.shape[0]\n",
    "\n",
    "fig, axes = plt.subplots(4, 8, figsize=(15, 7))\n",
    "for i, ax in enumerate(axes.flat):\n",
    "    if i < num_filters:\n",
    "        img = filters[i].transpose(1, 2, 0)\n",
    "        img = (img - img.min()) / (img.max() - img.min())\n",
    "        ax.imshow(img)\n",
    "        ax.set_title(f'Filter {i+1}')\n",
    "    ax.axis('off')\n",
    "plt.show()"
   ]
  },
  {
   "cell_type": "markdown",
   "metadata": {},
   "source": [
    "## 2.c"
   ]
  },
  {
   "cell_type": "code",
   "execution_count": 52,
   "metadata": {},
   "outputs": [
    {
     "data": {
      "application/vnd.jupyter.widget-view+json": {
       "model_id": "05f6e640ad3545a394a6252cda877be8",
       "version_major": 2,
       "version_minor": 0
      },
      "text/plain": [
       "  0%|          | 0/45 [00:00<?, ?it/s]"
      ]
     },
     "metadata": {},
     "output_type": "display_data"
    },
    {
     "name": "stdout",
     "output_type": "stream",
     "text": [
      "\n",
      "Training set epoch 0: Avg. loss: 0.0019, Accuracy: 13840/45000 (30.76%)\n",
      "\n",
      "\n",
      "Validation set: Avg. loss: 0.0016, Accuracy: 2150/5000 (43.00%)\n",
      "\n"
     ]
    },
    {
     "data": {
      "application/vnd.jupyter.widget-view+json": {
       "model_id": "2a48cc96f9c948a69a81017a62e5925d",
       "version_major": 2,
       "version_minor": 0
      },
      "text/plain": [
       "  0%|          | 0/45 [00:00<?, ?it/s]"
      ]
     },
     "metadata": {},
     "output_type": "display_data"
    },
    {
     "name": "stdout",
     "output_type": "stream",
     "text": [
      "\n",
      "Training set epoch 1: Avg. loss: 0.0015, Accuracy: 20385/45000 (45.30%)\n",
      "\n",
      "\n",
      "Validation set: Avg. loss: 0.0014, Accuracy: 2441/5000 (48.82%)\n",
      "\n"
     ]
    },
    {
     "data": {
      "application/vnd.jupyter.widget-view+json": {
       "model_id": "79daeed70d44485da18d8cf26b395085",
       "version_major": 2,
       "version_minor": 0
      },
      "text/plain": [
       "  0%|          | 0/45 [00:00<?, ?it/s]"
      ]
     },
     "metadata": {},
     "output_type": "display_data"
    },
    {
     "name": "stdout",
     "output_type": "stream",
     "text": [
      "\n",
      "Training set epoch 2: Avg. loss: 0.0013, Accuracy: 23801/45000 (52.89%)\n",
      "\n",
      "\n",
      "Validation set: Avg. loss: 0.0013, Accuracy: 2773/5000 (55.46%)\n",
      "\n"
     ]
    },
    {
     "data": {
      "application/vnd.jupyter.widget-view+json": {
       "model_id": "02803675ee7c417a8173a352aca8f64c",
       "version_major": 2,
       "version_minor": 0
      },
      "text/plain": [
       "  0%|          | 0/45 [00:00<?, ?it/s]"
      ]
     },
     "metadata": {},
     "output_type": "display_data"
    },
    {
     "name": "stdout",
     "output_type": "stream",
     "text": [
      "\n",
      "Training set epoch 3: Avg. loss: 0.0012, Accuracy: 25721/45000 (57.16%)\n",
      "\n",
      "\n",
      "Validation set: Avg. loss: 0.0012, Accuracy: 2885/5000 (57.70%)\n",
      "\n"
     ]
    },
    {
     "data": {
      "application/vnd.jupyter.widget-view+json": {
       "model_id": "506bcfc3dc864a95ad5c7a622df1a7c1",
       "version_major": 2,
       "version_minor": 0
      },
      "text/plain": [
       "  0%|          | 0/45 [00:00<?, ?it/s]"
      ]
     },
     "metadata": {},
     "output_type": "display_data"
    },
    {
     "name": "stdout",
     "output_type": "stream",
     "text": [
      "\n",
      "Training set epoch 4: Avg. loss: 0.0011, Accuracy: 27105/45000 (60.23%)\n",
      "\n",
      "\n",
      "Validation set: Avg. loss: 0.0011, Accuracy: 3126/5000 (62.52%)\n",
      "\n"
     ]
    },
    {
     "data": {
      "application/vnd.jupyter.widget-view+json": {
       "model_id": "47f32e427a464117985a980f9985d356",
       "version_major": 2,
       "version_minor": 0
      },
      "text/plain": [
       "  0%|          | 0/45 [00:00<?, ?it/s]"
      ]
     },
     "metadata": {},
     "output_type": "display_data"
    },
    {
     "name": "stdout",
     "output_type": "stream",
     "text": [
      "\n",
      "Training set epoch 5: Avg. loss: 0.0010, Accuracy: 28333/45000 (62.96%)\n",
      "\n",
      "\n",
      "Validation set: Avg. loss: 0.0010, Accuracy: 3239/5000 (64.78%)\n",
      "\n"
     ]
    },
    {
     "data": {
      "application/vnd.jupyter.widget-view+json": {
       "model_id": "3300d2924f4b43a18982acba3b74d842",
       "version_major": 2,
       "version_minor": 0
      },
      "text/plain": [
       "  0%|          | 0/45 [00:00<?, ?it/s]"
      ]
     },
     "metadata": {},
     "output_type": "display_data"
    },
    {
     "name": "stdout",
     "output_type": "stream",
     "text": [
      "\n",
      "Training set epoch 6: Avg. loss: 0.0010, Accuracy: 29548/45000 (65.66%)\n",
      "\n",
      "\n",
      "Validation set: Avg. loss: 0.0010, Accuracy: 3248/5000 (64.96%)\n",
      "\n"
     ]
    },
    {
     "data": {
      "application/vnd.jupyter.widget-view+json": {
       "model_id": "cd816351771e44fb90e6e184b0a33bfb",
       "version_major": 2,
       "version_minor": 0
      },
      "text/plain": [
       "  0%|          | 0/45 [00:00<?, ?it/s]"
      ]
     },
     "metadata": {},
     "output_type": "display_data"
    },
    {
     "name": "stdout",
     "output_type": "stream",
     "text": [
      "\n",
      "Training set epoch 7: Avg. loss: 0.0009, Accuracy: 30495/45000 (67.77%)\n",
      "\n",
      "\n",
      "Validation set: Avg. loss: 0.0009, Accuracy: 3394/5000 (67.88%)\n",
      "\n"
     ]
    },
    {
     "data": {
      "application/vnd.jupyter.widget-view+json": {
       "model_id": "31d4e21057554214a0893739be97eb46",
       "version_major": 2,
       "version_minor": 0
      },
      "text/plain": [
       "  0%|          | 0/45 [00:00<?, ?it/s]"
      ]
     },
     "metadata": {},
     "output_type": "display_data"
    },
    {
     "name": "stdout",
     "output_type": "stream",
     "text": [
      "\n",
      "Training set epoch 8: Avg. loss: 0.0009, Accuracy: 31243/45000 (69.43%)\n",
      "\n",
      "\n",
      "Validation set: Avg. loss: 0.0009, Accuracy: 3393/5000 (67.86%)\n",
      "\n"
     ]
    },
    {
     "data": {
      "application/vnd.jupyter.widget-view+json": {
       "model_id": "1597a301c64e4959bc342926a59879b0",
       "version_major": 2,
       "version_minor": 0
      },
      "text/plain": [
       "  0%|          | 0/45 [00:00<?, ?it/s]"
      ]
     },
     "metadata": {},
     "output_type": "display_data"
    },
    {
     "name": "stdout",
     "output_type": "stream",
     "text": [
      "\n",
      "Training set epoch 9: Avg. loss: 0.0008, Accuracy: 32049/45000 (71.22%)\n",
      "\n",
      "\n",
      "Validation set: Avg. loss: 0.0009, Accuracy: 3434/5000 (68.68%)\n",
      "\n",
      "\n",
      "Test set: Avg. loss: 0.0009, Accuracy: 6807/10000 (68.07%)\n",
      "\n"
     ]
    },
    {
     "data": {
      "image/png": "[encoded data removed]",
      "text/plain": [
       "<Figure size 432x288 with 1 Axes>"
      ]
     },
     "metadata": {
      "needs_background": "light"
     },
     "output_type": "display_data"
    }
   ],
   "source": [
    "class Improved_CIFAR_Net(nn.Module):\n",
    "    def __init__(self, pars):\n",
    "        super(Improved_CIFAR_Net, self).__init__()\n",
    "\n",
    "        ks = pars.kernel_size\n",
    "        ps = np.int32(pars.pool_size)\n",
    "        self.mid_layer = pars.mid_layer\n",
    "\n",
    "        self.conv1 = nn.Conv2d(3, 32, kernel_size=ks[0], padding=ks[0] // 2)\n",
    "        self.pool1 = nn.MaxPool2d(kernel_size=[ps], stride=2)\n",
    "        self.conv2 = nn.Conv2d(32, 64, kernel_size=ks[1], padding=ks[1] // 2)\n",
    "        self.pool2 = nn.MaxPool2d(kernel_size=2, stride=2)\n",
    "        self.conv3 = nn.Conv2d(64, 128, kernel_size=ks[2], padding=ks[2] // 2)\n",
    "        self.drop2 = nn.Dropout2d(pars.dropout)\n",
    "\n",
    "        self.first = True\n",
    "        if self.first:\n",
    "            self.forward(torch.zeros((1,) + pars.inp_dim))\n",
    "\n",
    "        if pars.minimizer == 'Adam':\n",
    "            self.optimizer = torch.optim.Adam(self.parameters(), lr=pars.step_size)\n",
    "        else:\n",
    "            self.optimizer = torch.optim.SGD(self.parameters(), lr=pars.step_size)\n",
    "\n",
    "        self.criterion = nn.CrossEntropyLoss()\n",
    "\n",
    "    def forward(self, x):\n",
    "        x = F.relu(self.pool1(self.conv1(x)))\n",
    "        x = F.relu(self.pool2(self.conv2(x)))\n",
    "        x = self.drop2(F.relu(self.conv3(x)))\n",
    "\n",
    "        if self.first:\n",
    "            self.first = False\n",
    "            self.inp = x.shape[1] * x.shape[2] * x.shape[3]\n",
    "            self.fc1 = nn.Linear(self.inp, self.mid_layer)\n",
    "            self.fc_final = nn.Linear(self.mid_layer, 10)\n",
    "\n",
    "        x = x.reshape(-1, self.inp)\n",
    "        x = F.relu(self.fc1(x))\n",
    "        x = self.fc_final(x)\n",
    "        return x\n",
    "    \n",
    "    # Run the network on the data, compute the loss, compute the predictions and compute classification rate/\n",
    "    def get_acc_and_loss(self, data, targ):\n",
    "        output = self.forward(data)\n",
    "        loss = self.criterion(output, targ)\n",
    "        pred = torch.max(output,1)[1]\n",
    "        correct = torch.eq(pred,targ).sum()\n",
    "        \n",
    "        return loss,correct\n",
    "    \n",
    "    # Compute classification and loss and then do a gradient step on the loss.\n",
    "    def run_grad(self,data,targ):\n",
    "    \n",
    "        loss, correct=self.get_acc_and_loss(data,targ)\n",
    "        self.optimizer.zero_grad()\n",
    "        loss.backward()\n",
    "        self.optimizer.step()\n",
    "        \n",
    "        return loss, correct\n",
    "    \n",
    "        \n",
    "# use GPU when possible\n",
    "pars.device = device\n",
    "pars.kernel_size=[5,5,5]\n",
    "train,val,test=get_data(data_set=pars.data_set)\n",
    "pars.inp_dim=train[0][0].shape\n",
    "# Initialize the network\n",
    "net = Improved_CIFAR_Net(pars).to(pars.device)\n",
    "# Post it to the gpu if its there.\n",
    "net.to(pars.device)\n",
    "\n",
    "\n",
    "train=(train[0][0:pars.numtrain],train[1][0:pars.numtrain])\n",
    "\n",
    "train_losses, train_accuracies, val_losses, val_accuracies = [], [], [], []\n",
    "for i in range(pars.num_epochs):\n",
    "    # Run one epoch of training\n",
    "    train_loss, train_accuracy = run_epoch(net,i,train, pars, num=pars.numtrain, ttype=\"train\")\n",
    "    # Test on validation set.\n",
    "    val_loss, val_accuracy = net_test(net,val,pars)\n",
    "    train_losses.append(train_loss)\n",
    "    train_accuracies.append(train_accuracy)\n",
    "    val_losses.append(val_loss)\n",
    "    val_accuracies.append(val_accuracy)\n",
    "\n",
    "net_test(net,test,pars,ttype=\"test\")\n",
    "\n",
    "epochs = np.arange(1, pars.num_epochs + 1)\n",
    "plt.figure()\n",
    "plt.plot(epochs, 100 - np.array(train_accuracies), label=\"Training Error\")\n",
    "plt.plot(epochs, 100 - np.array(val_accuracies), label=\"Validation Error\")\n",
    "plt.xlabel(\"Epoch\")\n",
    "plt.ylabel(\"Error Rate (%)\")\n",
    "plt.legend()\n",
    "plt.title(\"Error Rate vs Epoch\")\n",
    "plt.show()"
   ]
  },
  {
   "cell_type": "markdown",
   "metadata": {},
   "source": [
    "There is some improvement but not very large."
   ]
  },
  {
   "cell_type": "markdown",
   "metadata": {},
   "source": [
    "## 2.d"
   ]
  },
  {
   "cell_type": "code",
   "execution_count": 103,
   "metadata": {},
   "outputs": [],
   "source": [
    "from skimage import color\n",
    "def transform_image(image, min_factor=0.75, max_factor=1.25):\n",
    "    # Convert RGB to HSV\n",
    "    hsv_image = color.rgb2hsv(image)\n",
    "    \n",
    "    # Apply the saturation transformation\n",
    "    factor = np.random.uniform(min_factor, max_factor)\n",
    "    hsv_image[:, :, 1] *= factor\n",
    "    hsv_image[:, :, 1] = np.clip(hsv_image[:, :, 1], 0, 1)  # Ensure saturation values are in the range [0, 1]\n",
    "\n",
    "    # Convert back to RGB\n",
    "    transformed_image = color.hsv2rgb(hsv_image)\n",
    "\n",
    "    return transformed_image\n",
    "\n",
    "test_transformed = np.array([transform_image(img.transpose(1, 2, 0)).transpose(2, 0, 1) for img in test[0]])"
   ]
  },
  {
   "cell_type": "code",
   "execution_count": 83,
   "metadata": {},
   "outputs": [
    {
     "data": {
      "image/png": "[encoded data removed]",
      "text/plain": [
       "<Figure size 1080x216 with 5 Axes>"
      ]
     },
     "metadata": {
      "needs_background": "light"
     },
     "output_type": "display_data"
    }
   ],
   "source": [
    "import matplotlib.pyplot as plt\n",
    "\n",
    "num_images = 5\n",
    "fig, axes = plt.subplots(1, num_images, figsize=(15, 3))\n",
    "\n",
    "for i in range(num_images):\n",
    "    axes[i].imshow(test_transformed[i].transpose(1, 2, 0))\n",
    "    axes[i].axis('off')\n",
    "\n",
    "plt.show()"
   ]
  },
  {
   "cell_type": "code",
   "execution_count": 106,
   "metadata": {},
   "outputs": [
    {
     "name": "stdout",
     "output_type": "stream",
     "text": [
      "\n",
      "Test set: Avg. loss: 0.0009, Accuracy: 6795/10000 (67.95%)\n",
      "\n"
     ]
    },
    {
     "data": {
      "text/plain": [
       "(0.0009213252246379853, 67.95)"
      ]
     },
     "execution_count": 106,
     "metadata": {},
     "output_type": "execute_result"
    }
   ],
   "source": [
    "net_test(net,(test_transformed,test[1]),pars,ttype=\"test\")"
   ]
  },
  {
   "cell_type": "markdown",
   "metadata": {},
   "source": [
    "The model is quite robust against the saturation modfication."
   ]
  },
  {
   "cell_type": "code",
   "execution_count": null,
   "metadata": {},
   "outputs": [],
   "source": []
  }
 ],
 "metadata": {
  "accelerator": "GPU",
  "colab": {
   "provenance": []
  },
  "kernelspec": {
   "display_name": "Python 3 (ipykernel)",
   "language": "python",
   "name": "python3"
  },
  "language_info": {
   "codemirror_mode": {
    "name": "ipython",
    "version": 3
   },
   "file_extension": ".py",
   "mimetype": "text/x-python",
   "name": "python",
   "nbconvert_exporter": "python",
   "pygments_lexer": "ipython3",
   "version": "3.9.12"
  },
  "widgets": {
   "application/vnd.jupyter.widget-state+json": {
    "0734f24097b3425284b8678b019fa1a9": {
     "model_module": "@jupyter-widgets/controls",
     "model_module_version": "1.5.0",
     "model_name": "HTMLModel",
     "state": {
      "_dom_classes": [],
      "_model_module": "@jupyter-widgets/controls",
      "_model_module_version": "1.5.0",
      "_model_name": "HTMLModel",
      "_view_count": null,
      "_view_module": "@jupyter-widgets/controls",
      "_view_module_version": "1.5.0",
      "_view_name": "HTMLView",
      "description": "",
      "description_tooltip": null,
      "layout": "IPY_MODEL_45ff11a2888d4199b40ab8c7d4d30925",
      "placeholder": "​",
      "style": "IPY_MODEL_64824c908396453c9dbd714e803e953b",
      "value": " 55/55 [00:01&lt;00:00, 40.12it/s]"
     }
    },
    "2c60196c25024f949eb162b4560328c8": {
     "model_module": "@jupyter-widgets/base",
     "model_module_version": "1.2.0",
     "model_name": "LayoutModel",
     "state": {
      "_model_module": "@jupyter-widgets/base",
      "_model_module_version": "1.2.0",
      "_model_name": "LayoutModel",
      "_view_count": null,
      "_view_module": "@jupyter-widgets/base",
      "_view_module_version": "1.2.0",
      "_view_name": "LayoutView",
      "align_content": null,
      "align_items": null,
      "align_self": null,
      "border": null,
      "bottom": null,
      "display": null,
      "flex": null,
      "flex_flow": null,
      "grid_area": null,
      "grid_auto_columns": null,
      "grid_auto_flow": null,
      "grid_auto_rows": null,
      "grid_column": null,
      "grid_gap": null,
      "grid_row": null,
      "grid_template_areas": null,
      "grid_template_columns": null,
      "grid_template_rows": null,
      "height": null,
      "justify_content": null,
      "justify_items": null,
      "left": null,
      "margin": null,
      "max_height": null,
      "max_width": null,
      "min_height": null,
      "min_width": null,
      "object_fit": null,
      "object_position": null,
      "order": null,
      "overflow": null,
      "overflow_x": null,
      "overflow_y": null,
      "padding": null,
      "right": null,
      "top": null,
      "visibility": null,
      "width": null
     }
    },
    "2ecf0421133a4aaa9eb394f795cb461e": {
     "model_module": "@jupyter-widgets/controls",
     "model_module_version": "1.5.0",
     "model_name": "FloatProgressModel",
     "state": {
      "_dom_classes": [],
      "_model_module": "@jupyter-widgets/controls",
      "_model_module_version": "1.5.0",
      "_model_name": "FloatProgressModel",
      "_view_count": null,
      "_view_module": "@jupyter-widgets/controls",
      "_view_module_version": "1.5.0",
      "_view_name": "ProgressView",
      "bar_style": "success",
      "description": "",
      "description_tooltip": null,
      "layout": "IPY_MODEL_2c60196c25024f949eb162b4560328c8",
      "max": 55,
      "min": 0,
      "orientation": "horizontal",
      "style": "IPY_MODEL_68242eec45f44bd9990b909ca5d28925",
      "value": 55
     }
    },
    "33da9a51e1c546efbe772eb78b3026e1": {
     "model_module": "@jupyter-widgets/controls",
     "model_module_version": "1.5.0",
     "model_name": "DescriptionStyleModel",
     "state": {
      "_model_module": "@jupyter-widgets/controls",
      "_model_module_version": "1.5.0",
      "_model_name": "DescriptionStyleModel",
      "_view_count": null,
      "_view_module": "@jupyter-widgets/base",
      "_view_module_version": "1.2.0",
      "_view_name": "StyleView",
      "description_width": ""
     }
    },
    "45ff11a2888d4199b40ab8c7d4d30925": {
     "model_module": "@jupyter-widgets/base",
     "model_module_version": "1.2.0",
     "model_name": "LayoutModel",
     "state": {
      "_model_module": "@jupyter-widgets/base",
      "_model_module_version": "1.2.0",
      "_model_name": "LayoutModel",
      "_view_count": null,
      "_view_module": "@jupyter-widgets/base",
      "_view_module_version": "1.2.0",
      "_view_name": "LayoutView",
      "align_content": null,
      "align_items": null,
      "align_self": null,
      "border": null,
      "bottom": null,
      "display": null,
      "flex": null,
      "flex_flow": null,
      "grid_area": null,
      "grid_auto_columns": null,
      "grid_auto_flow": null,
      "grid_auto_rows": null,
      "grid_column": null,
      "grid_gap": null,
      "grid_row": null,
      "grid_template_areas": null,
      "grid_template_columns": null,
      "grid_template_rows": null,
      "height": null,
      "justify_content": null,
      "justify_items": null,
      "left": null,
      "margin": null,
      "max_height": null,
      "max_width": null,
      "min_height": null,
      "min_width": null,
      "object_fit": null,
      "object_position": null,
      "order": null,
      "overflow": null,
      "overflow_x": null,
      "overflow_y": null,
      "padding": null,
      "right": null,
      "top": null,
      "visibility": null,
      "width": null
     }
    },
    "55da5797d0b44ed983bd418722e3a919": {
     "model_module": "@jupyter-widgets/controls",
     "model_module_version": "1.5.0",
     "model_name": "HTMLModel",
     "state": {
      "_dom_classes": [],
      "_model_module": "@jupyter-widgets/controls",
      "_model_module_version": "1.5.0",
      "_model_name": "HTMLModel",
      "_view_count": null,
      "_view_module": "@jupyter-widgets/controls",
      "_view_module_version": "1.5.0",
      "_view_name": "HTMLView",
      "description": "",
      "description_tooltip": null,
      "layout": "IPY_MODEL_7f92950bc7644b6cad8652533727b9f0",
      "placeholder": "​",
      "style": "IPY_MODEL_33da9a51e1c546efbe772eb78b3026e1",
      "value": "100%"
     }
    },
    "64824c908396453c9dbd714e803e953b": {
     "model_module": "@jupyter-widgets/controls",
     "model_module_version": "1.5.0",
     "model_name": "DescriptionStyleModel",
     "state": {
      "_model_module": "@jupyter-widgets/controls",
      "_model_module_version": "1.5.0",
      "_model_name": "DescriptionStyleModel",
      "_view_count": null,
      "_view_module": "@jupyter-widgets/base",
      "_view_module_version": "1.2.0",
      "_view_name": "StyleView",
      "description_width": ""
     }
    },
    "68242eec45f44bd9990b909ca5d28925": {
     "model_module": "@jupyter-widgets/controls",
     "model_module_version": "1.5.0",
     "model_name": "ProgressStyleModel",
     "state": {
      "_model_module": "@jupyter-widgets/controls",
      "_model_module_version": "1.5.0",
      "_model_name": "ProgressStyleModel",
      "_view_count": null,
      "_view_module": "@jupyter-widgets/base",
      "_view_module_version": "1.2.0",
      "_view_name": "StyleView",
      "bar_color": null,
      "description_width": ""
     }
    },
    "69795aa0ed834270906fab7abd579fd6": {
     "model_module": "@jupyter-widgets/base",
     "model_module_version": "1.2.0",
     "model_name": "LayoutModel",
     "state": {
      "_model_module": "@jupyter-widgets/base",
      "_model_module_version": "1.2.0",
      "_model_name": "LayoutModel",
      "_view_count": null,
      "_view_module": "@jupyter-widgets/base",
      "_view_module_version": "1.2.0",
      "_view_name": "LayoutView",
      "align_content": null,
      "align_items": null,
      "align_self": null,
      "border": null,
      "bottom": null,
      "display": null,
      "flex": null,
      "flex_flow": null,
      "grid_area": null,
      "grid_auto_columns": null,
      "grid_auto_flow": null,
      "grid_auto_rows": null,
      "grid_column": null,
      "grid_gap": null,
      "grid_row": null,
      "grid_template_areas": null,
      "grid_template_columns": null,
      "grid_template_rows": null,
      "height": null,
      "justify_content": null,
      "justify_items": null,
      "left": null,
      "margin": null,
      "max_height": null,
      "max_width": null,
      "min_height": null,
      "min_width": null,
      "object_fit": null,
      "object_position": null,
      "order": null,
      "overflow": null,
      "overflow_x": null,
      "overflow_y": null,
      "padding": null,
      "right": null,
      "top": null,
      "visibility": null,
      "width": null
     }
    },
    "733d642e61a347228507d6407da371c2": {
     "model_module": "@jupyter-widgets/base",
     "model_module_version": "1.2.0",
     "model_name": "LayoutModel",
     "state": {
      "_model_module": "@jupyter-widgets/base",
      "_model_module_version": "1.2.0",
      "_model_name": "LayoutModel",
      "_view_count": null,
      "_view_module": "@jupyter-widgets/base",
      "_view_module_version": "1.2.0",
      "_view_name": "LayoutView",
      "align_content": null,
      "align_items": null,
      "align_self": null,
      "border": null,
      "bottom": null,
      "display": null,
      "flex": null,
      "flex_flow": null,
      "grid_area": null,
      "grid_auto_columns": null,
      "grid_auto_flow": null,
      "grid_auto_rows": null,
      "grid_column": null,
      "grid_gap": null,
      "grid_row": null,
      "grid_template_areas": null,
      "grid_template_columns": null,
      "grid_template_rows": null,
      "height": null,
      "justify_content": null,
      "justify_items": null,
      "left": null,
      "margin": null,
      "max_height": null,
      "max_width": null,
      "min_height": null,
      "min_width": null,
      "object_fit": null,
      "object_position": null,
      "order": null,
      "overflow": null,
      "overflow_x": null,
      "overflow_y": null,
      "padding": null,
      "right": null,
      "top": null,
      "visibility": null,
      "width": null
     }
    },
    "77159518c54e4e7db062749431535a14": {
     "model_module": "@jupyter-widgets/controls",
     "model_module_version": "1.5.0",
     "model_name": "HBoxModel",
     "state": {
      "_dom_classes": [],
      "_model_module": "@jupyter-widgets/controls",
      "_model_module_version": "1.5.0",
      "_model_name": "HBoxModel",
      "_view_count": null,
      "_view_module": "@jupyter-widgets/controls",
      "_view_module_version": "1.5.0",
      "_view_name": "HBoxView",
      "box_style": "",
      "children": [
       "IPY_MODEL_7bd26a14d091414ea23c2c5dddb27aa9",
       "IPY_MODEL_9039d4f80d4245a2ab6351357d240c30",
       "IPY_MODEL_ef19844ef2fa4a87a19461b4ca353c4f"
      ],
      "layout": "IPY_MODEL_9e238fd0858c4f7093c1881a214e611a"
     }
    },
    "7bd26a14d091414ea23c2c5dddb27aa9": {
     "model_module": "@jupyter-widgets/controls",
     "model_module_version": "1.5.0",
     "model_name": "HTMLModel",
     "state": {
      "_dom_classes": [],
      "_model_module": "@jupyter-widgets/controls",
      "_model_module_version": "1.5.0",
      "_model_name": "HTMLModel",
      "_view_count": null,
      "_view_module": "@jupyter-widgets/controls",
      "_view_module_version": "1.5.0",
      "_view_name": "HTMLView",
      "description": "",
      "description_tooltip": null,
      "layout": "IPY_MODEL_733d642e61a347228507d6407da371c2",
      "placeholder": "​",
      "style": "IPY_MODEL_dbaee315d7544af1a0901c7966060a11",
      "value": "100%"
     }
    },
    "7f92950bc7644b6cad8652533727b9f0": {
     "model_module": "@jupyter-widgets/base",
     "model_module_version": "1.2.0",
     "model_name": "LayoutModel",
     "state": {
      "_model_module": "@jupyter-widgets/base",
      "_model_module_version": "1.2.0",
      "_model_name": "LayoutModel",
      "_view_count": null,
      "_view_module": "@jupyter-widgets/base",
      "_view_module_version": "1.2.0",
      "_view_name": "LayoutView",
      "align_content": null,
      "align_items": null,
      "align_self": null,
      "border": null,
      "bottom": null,
      "display": null,
      "flex": null,
      "flex_flow": null,
      "grid_area": null,
      "grid_auto_columns": null,
      "grid_auto_flow": null,
      "grid_auto_rows": null,
      "grid_column": null,
      "grid_gap": null,
      "grid_row": null,
      "grid_template_areas": null,
      "grid_template_columns": null,
      "grid_template_rows": null,
      "height": null,
      "justify_content": null,
      "justify_items": null,
      "left": null,
      "margin": null,
      "max_height": null,
      "max_width": null,
      "min_height": null,
      "min_width": null,
      "object_fit": null,
      "object_position": null,
      "order": null,
      "overflow": null,
      "overflow_x": null,
      "overflow_y": null,
      "padding": null,
      "right": null,
      "top": null,
      "visibility": null,
      "width": null
     }
    },
    "8987947922274a379f0ba34e5b325f79": {
     "model_module": "@jupyter-widgets/controls",
     "model_module_version": "1.5.0",
     "model_name": "DescriptionStyleModel",
     "state": {
      "_model_module": "@jupyter-widgets/controls",
      "_model_module_version": "1.5.0",
      "_model_name": "DescriptionStyleModel",
      "_view_count": null,
      "_view_module": "@jupyter-widgets/base",
      "_view_module_version": "1.2.0",
      "_view_name": "StyleView",
      "description_width": ""
     }
    },
    "9039d4f80d4245a2ab6351357d240c30": {
     "model_module": "@jupyter-widgets/controls",
     "model_module_version": "1.5.0",
     "model_name": "FloatProgressModel",
     "state": {
      "_dom_classes": [],
      "_model_module": "@jupyter-widgets/controls",
      "_model_module_version": "1.5.0",
      "_model_name": "FloatProgressModel",
      "_view_count": null,
      "_view_module": "@jupyter-widgets/controls",
      "_view_module_version": "1.5.0",
      "_view_name": "ProgressView",
      "bar_style": "success",
      "description": "",
      "description_tooltip": null,
      "layout": "IPY_MODEL_a32b06f7b5bb47b4a6c612d691037f86",
      "max": 55,
      "min": 0,
      "orientation": "horizontal",
      "style": "IPY_MODEL_eac19658fca142cd8479180a61445f3f",
      "value": 55
     }
    },
    "93990de294ed4f35905b13cad0b8a5fb": {
     "model_module": "@jupyter-widgets/base",
     "model_module_version": "1.2.0",
     "model_name": "LayoutModel",
     "state": {
      "_model_module": "@jupyter-widgets/base",
      "_model_module_version": "1.2.0",
      "_model_name": "LayoutModel",
      "_view_count": null,
      "_view_module": "@jupyter-widgets/base",
      "_view_module_version": "1.2.0",
      "_view_name": "LayoutView",
      "align_content": null,
      "align_items": null,
      "align_self": null,
      "border": null,
      "bottom": null,
      "display": null,
      "flex": null,
      "flex_flow": null,
      "grid_area": null,
      "grid_auto_columns": null,
      "grid_auto_flow": null,
      "grid_auto_rows": null,
      "grid_column": null,
      "grid_gap": null,
      "grid_row": null,
      "grid_template_areas": null,
      "grid_template_columns": null,
      "grid_template_rows": null,
      "height": null,
      "justify_content": null,
      "justify_items": null,
      "left": null,
      "margin": null,
      "max_height": null,
      "max_width": null,
      "min_height": null,
      "min_width": null,
      "object_fit": null,
      "object_position": null,
      "order": null,
      "overflow": null,
      "overflow_x": null,
      "overflow_y": null,
      "padding": null,
      "right": null,
      "top": null,
      "visibility": null,
      "width": null
     }
    },
    "9e238fd0858c4f7093c1881a214e611a": {
     "model_module": "@jupyter-widgets/base",
     "model_module_version": "1.2.0",
     "model_name": "LayoutModel",
     "state": {
      "_model_module": "@jupyter-widgets/base",
      "_model_module_version": "1.2.0",
      "_model_name": "LayoutModel",
      "_view_count": null,
      "_view_module": "@jupyter-widgets/base",
      "_view_module_version": "1.2.0",
      "_view_name": "LayoutView",
      "align_content": null,
      "align_items": null,
      "align_self": null,
      "border": null,
      "bottom": null,
      "display": null,
      "flex": null,
      "flex_flow": null,
      "grid_area": null,
      "grid_auto_columns": null,
      "grid_auto_flow": null,
      "grid_auto_rows": null,
      "grid_column": null,
      "grid_gap": null,
      "grid_row": null,
      "grid_template_areas": null,
      "grid_template_columns": null,
      "grid_template_rows": null,
      "height": null,
      "justify_content": null,
      "justify_items": null,
      "left": null,
      "margin": null,
      "max_height": null,
      "max_width": null,
      "min_height": null,
      "min_width": null,
      "object_fit": null,
      "object_position": null,
      "order": null,
      "overflow": null,
      "overflow_x": null,
      "overflow_y": null,
      "padding": null,
      "right": null,
      "top": null,
      "visibility": null,
      "width": null
     }
    },
    "a32b06f7b5bb47b4a6c612d691037f86": {
     "model_module": "@jupyter-widgets/base",
     "model_module_version": "1.2.0",
     "model_name": "LayoutModel",
     "state": {
      "_model_module": "@jupyter-widgets/base",
      "_model_module_version": "1.2.0",
      "_model_name": "LayoutModel",
      "_view_count": null,
      "_view_module": "@jupyter-widgets/base",
      "_view_module_version": "1.2.0",
      "_view_name": "LayoutView",
      "align_content": null,
      "align_items": null,
      "align_self": null,
      "border": null,
      "bottom": null,
      "display": null,
      "flex": null,
      "flex_flow": null,
      "grid_area": null,
      "grid_auto_columns": null,
      "grid_auto_flow": null,
      "grid_auto_rows": null,
      "grid_column": null,
      "grid_gap": null,
      "grid_row": null,
      "grid_template_areas": null,
      "grid_template_columns": null,
      "grid_template_rows": null,
      "height": null,
      "justify_content": null,
      "justify_items": null,
      "left": null,
      "margin": null,
      "max_height": null,
      "max_width": null,
      "min_height": null,
      "min_width": null,
      "object_fit": null,
      "object_position": null,
      "order": null,
      "overflow": null,
      "overflow_x": null,
      "overflow_y": null,
      "padding": null,
      "right": null,
      "top": null,
      "visibility": null,
      "width": null
     }
    },
    "cd24a2e5cfbf4c3a88ba85745b4fed59": {
     "model_module": "@jupyter-widgets/controls",
     "model_module_version": "1.5.0",
     "model_name": "HBoxModel",
     "state": {
      "_dom_classes": [],
      "_model_module": "@jupyter-widgets/controls",
      "_model_module_version": "1.5.0",
      "_model_name": "HBoxModel",
      "_view_count": null,
      "_view_module": "@jupyter-widgets/controls",
      "_view_module_version": "1.5.0",
      "_view_name": "HBoxView",
      "box_style": "",
      "children": [
       "IPY_MODEL_55da5797d0b44ed983bd418722e3a919",
       "IPY_MODEL_2ecf0421133a4aaa9eb394f795cb461e",
       "IPY_MODEL_0734f24097b3425284b8678b019fa1a9"
      ],
      "layout": "IPY_MODEL_93990de294ed4f35905b13cad0b8a5fb"
     }
    },
    "dbaee315d7544af1a0901c7966060a11": {
     "model_module": "@jupyter-widgets/controls",
     "model_module_version": "1.5.0",
     "model_name": "DescriptionStyleModel",
     "state": {
      "_model_module": "@jupyter-widgets/controls",
      "_model_module_version": "1.5.0",
      "_model_name": "DescriptionStyleModel",
      "_view_count": null,
      "_view_module": "@jupyter-widgets/base",
      "_view_module_version": "1.2.0",
      "_view_name": "StyleView",
      "description_width": ""
     }
    },
    "eac19658fca142cd8479180a61445f3f": {
     "model_module": "@jupyter-widgets/controls",
     "model_module_version": "1.5.0",
     "model_name": "ProgressStyleModel",
     "state": {
      "_model_module": "@jupyter-widgets/controls",
      "_model_module_version": "1.5.0",
      "_model_name": "ProgressStyleModel",
      "_view_count": null,
      "_view_module": "@jupyter-widgets/base",
      "_view_module_version": "1.2.0",
      "_view_name": "StyleView",
      "bar_color": null,
      "description_width": ""
     }
    },
    "ef19844ef2fa4a87a19461b4ca353c4f": {
     "model_module": "@jupyter-widgets/controls",
     "model_module_version": "1.5.0",
     "model_name": "HTMLModel",
     "state": {
      "_dom_classes": [],
      "_model_module": "@jupyter-widgets/controls",
      "_model_module_version": "1.5.0",
      "_model_name": "HTMLModel",
      "_view_count": null,
      "_view_module": "@jupyter-widgets/controls",
      "_view_module_version": "1.5.0",
      "_view_name": "HTMLView",
      "description": "",
      "description_tooltip": null,
      "layout": "IPY_MODEL_69795aa0ed834270906fab7abd579fd6",
      "placeholder": "​",
      "style": "IPY_MODEL_8987947922274a379f0ba34e5b325f79",
      "value": " 55/55 [00:01&lt;00:00, 40.35it/s]"
     }
    }
   }
  }
 },
 "nbformat": 4,
 "nbformat_minor": 1
}
